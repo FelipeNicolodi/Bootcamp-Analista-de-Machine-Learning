{
  "nbformat": 4,
  "nbformat_minor": 0,
  "metadata": {
    "colab": {
      "name": "desafio_final_cars.ipynb",
      "provenance": [],
      "collapsed_sections": []
    },
    "kernelspec": {
      "name": "python3",
      "display_name": "Python 3"
    }
  },
  "cells": [
    {
      "cell_type": "markdown",
      "metadata": {
        "id": "N3_ugmhLc0s2",
        "colab_type": "text"
      },
      "source": [
        "## Desafio Final - Módulo 5 - Machine Learning\n",
        "##### **Com respotas do questionário**"
      ]
    },
    {
      "cell_type": "markdown",
      "metadata": {
        "id": "xbwJWsiNMY9b",
        "colab_type": "text"
      },
      "source": [
        "## Objetivo:\n",
        "Exercitar os seguintes conceitos trabalhados no Módulo:\n",
        "- Pré-processamento dos dados.\n",
        "- Detecção de anomalias.\n",
        "- Processamento dos dados.\n",
        "- Correlações.\n",
        "- Redução da dimensionalidade.\n",
        "- Algoritmos supervisionados e não supervisionados"
      ]
    },
    {
      "cell_type": "markdown",
      "metadata": {
        "id": "Fwj3Bnu2dXRK",
        "colab_type": "text"
      },
      "source": [
        "**Cars Data Set**<br>\n",
        "Enunciado\n",
        "\n",
        "Para todo engenheiro de Machine Learning é fundamental que todos os sete passos para construção de uma solução sejam seguidos. Nesse sentido, saber percorrer todas essas etapas e, ao final, identificar a melhor estratégia, é papel primordial para esse profissional.\n",
        "Neste desafio final vamos empregar boa parte dos conceitos mostrados no decorrer de todos os módulos do bootcamp para a análise e classificação de veículos, do conhecido dataset “cars”. Esse dataset contém um conjunto de informações sobre vários veículos pesquisados. Existem dados, por exemplo, sobre a potência do veículo, sobre a origem e cilindradas cúbicas.\n",
        "Para essa análise vamos empregar os conceitos de redução da dimensionalidade com o PCA, clusterização com o K-Means e classificações com algoritmos supervisionados."
      ]
    },
    {
      "cell_type": "markdown",
      "metadata": {
        "id": "ErCzLPqseEoQ",
        "colab_type": "text"
      },
      "source": [
        "Attribute Information:\n",
        "\n",
        "Dataset has 8 parameters, check description of each parameter below:\n",
        "\n",
        "1. mpg - Miles Per Gallon in common words it represents the fuel per mile or we say mileage. usually lesser power vechicle have more mileage compare to higher ones.\n",
        "\n",
        "2. cylinders - Cylinders is internal part of engine which give the accelaration power , more the number of cylinders, more capacity to go faster.\n",
        "\n",
        "3. cubicinches - Displacement is the size of the engine internally, measured in cubic inches (on American engines anwyay), and in CC's (cubic centemeters) on small import engines, or in liters on larger import engines. A 350 engine means it \"displaces\" 350 cubic inches of \"area\" internally that can be filled with fuel and air.\n",
        "\n",
        "4. hp - horsepower commonly used term it specify the engine capacity. it is also called torque which means power needed to move your vechicle from 1 place to other.\n",
        "\n",
        "5. weightlbs - It represents weight of a car.\n",
        "\n",
        "6. time-to-60 - This parameter tells that how much second a car take to reach 60 miles or 100 km/hr speed.\n",
        "\n",
        "7. year - Which year car has been launched.\n",
        "\n",
        "8. brand - Barnd represent the owner country, which has designed this car in ours (US, Europe and Japan )\n",
        "\n"
      ]
    },
    {
      "cell_type": "markdown",
      "metadata": {
        "id": "wuOsm-31_093",
        "colab_type": "text"
      },
      "source": [
        "2. Para a implementação dos algoritmos, utilize as definições abaixo:\n",
        "- normaliza = StandardScaler() #objeto para a normalização \n",
        "- pca = PCA(n_components=7) \n",
        "- KMeans(n_clusters=3,random_state=42) \n",
        "- train_test_split(entradas_arvore, saidas_arvore, test_size=0.30,random_state=42) \n",
        "- DecisionTreeClassifier(random_state=42) \n",
        "- LogisticRegression(random_state=42)"
      ]
    },
    {
      "cell_type": "markdown",
      "metadata": {
        "id": "YjqVWIWEfQeg",
        "colab_type": "text"
      },
      "source": [
        "## EDA"
      ]
    },
    {
      "cell_type": "code",
      "metadata": {
        "id": "XkAa6kElhAz9",
        "colab_type": "code",
        "colab": {}
      },
      "source": [
        "# importando as bibliotecas\n",
        "\n",
        "import warnings\n",
        "warnings.filterwarnings(\"ignore\")\n",
        "\n",
        "import pandas as pd \n",
        "import numpy as np \n",
        "import seaborn as sns\n",
        "import matplotlib.pyplot as plt \n",
        "\n",
        "#from sklearn.preprocessing import LabelEncoder\n",
        "from sklearn.preprocessing import StandardScaler\n",
        "from sklearn.decomposition import PCA\n",
        "from sklearn.cluster import KMeans\n",
        "from sklearn.tree import DecisionTreeClassifier\n",
        "from sklearn.linear_model import LogisticRegression\n",
        "\n",
        "from sklearn.model_selection import train_test_split,cross_val_score\n",
        "#from sklearn.metrics import classification_report, confusion_matrix"
      ],
      "execution_count": 1,
      "outputs": []
    },
    {
      "cell_type": "code",
      "metadata": {
        "id": "xfdf1y6LGJbI",
        "colab_type": "code",
        "colab": {}
      },
      "source": [
        "# Importando o dataset\n",
        "df = pd.read_csv('cars.csv')"
      ],
      "execution_count": 2,
      "outputs": []
    },
    {
      "cell_type": "code",
      "metadata": {
        "id": "ojNKlYWSPt3p",
        "colab_type": "code",
        "colab": {
          "base_uri": "https://localhost:8080/",
          "height": 35
        },
        "outputId": "2b558100-da1d-4ca2-eaee-5f7c2a9a505d"
      },
      "source": [
        "# mostrando as dimensões do dataset em linhas e colunas\n",
        "instancias,atributos = df.shape\n",
        "f'O dataset possue {instancias} instâncias e {atributos} atributos'"
      ],
      "execution_count": 3,
      "outputs": [
        {
          "output_type": "execute_result",
          "data": {
            "application/vnd.google.colaboratory.intrinsic+json": {
              "type": "string"
            },
            "text/plain": [
              "'O dataset possue 261 instâncias e 8 atributos'"
            ]
          },
          "metadata": {
            "tags": []
          },
          "execution_count": 3
        }
      ]
    },
    {
      "cell_type": "code",
      "metadata": {
        "id": "_Nyys82-EmE9",
        "colab_type": "code",
        "colab": {
          "base_uri": "https://localhost:8080/",
          "height": 68
        },
        "outputId": "b840e8c7-181f-4454-dafd-3313576b80e3"
      },
      "source": [
        "# Todas as colunas\n",
        "df.columns"
      ],
      "execution_count": 4,
      "outputs": [
        {
          "output_type": "execute_result",
          "data": {
            "text/plain": [
              "Index(['mpg', 'cylinders', 'cubicinches', 'hp', 'weightlbs', 'time-to-60',\n",
              "       'year', 'brand'],\n",
              "      dtype='object')"
            ]
          },
          "metadata": {
            "tags": []
          },
          "execution_count": 4
        }
      ]
    },
    {
      "cell_type": "code",
      "metadata": {
        "id": "SJGSbYgjEtPC",
        "colab_type": "code",
        "colab": {
          "base_uri": "https://localhost:8080/",
          "height": 204
        },
        "outputId": "d16ff22c-b376-4df7-f18c-d02ac3578a3d"
      },
      "source": [
        "# Primeiras linhas do dataset\n",
        "df.head()"
      ],
      "execution_count": 5,
      "outputs": [
        {
          "output_type": "execute_result",
          "data": {
            "text/html": [
              "<div>\n",
              "<style scoped>\n",
              "    .dataframe tbody tr th:only-of-type {\n",
              "        vertical-align: middle;\n",
              "    }\n",
              "\n",
              "    .dataframe tbody tr th {\n",
              "        vertical-align: top;\n",
              "    }\n",
              "\n",
              "    .dataframe thead th {\n",
              "        text-align: right;\n",
              "    }\n",
              "</style>\n",
              "<table border=\"1\" class=\"dataframe\">\n",
              "  <thead>\n",
              "    <tr style=\"text-align: right;\">\n",
              "      <th></th>\n",
              "      <th>mpg</th>\n",
              "      <th>cylinders</th>\n",
              "      <th>cubicinches</th>\n",
              "      <th>hp</th>\n",
              "      <th>weightlbs</th>\n",
              "      <th>time-to-60</th>\n",
              "      <th>year</th>\n",
              "      <th>brand</th>\n",
              "    </tr>\n",
              "  </thead>\n",
              "  <tbody>\n",
              "    <tr>\n",
              "      <th>0</th>\n",
              "      <td>14.0</td>\n",
              "      <td>8</td>\n",
              "      <td>350</td>\n",
              "      <td>165</td>\n",
              "      <td>4209</td>\n",
              "      <td>12</td>\n",
              "      <td>1972</td>\n",
              "      <td>US.</td>\n",
              "    </tr>\n",
              "    <tr>\n",
              "      <th>1</th>\n",
              "      <td>31.9</td>\n",
              "      <td>4</td>\n",
              "      <td>89</td>\n",
              "      <td>71</td>\n",
              "      <td>1925</td>\n",
              "      <td>14</td>\n",
              "      <td>1980</td>\n",
              "      <td>Europe.</td>\n",
              "    </tr>\n",
              "    <tr>\n",
              "      <th>2</th>\n",
              "      <td>17.0</td>\n",
              "      <td>8</td>\n",
              "      <td>302</td>\n",
              "      <td>140</td>\n",
              "      <td>3449</td>\n",
              "      <td>11</td>\n",
              "      <td>1971</td>\n",
              "      <td>US.</td>\n",
              "    </tr>\n",
              "    <tr>\n",
              "      <th>3</th>\n",
              "      <td>15.0</td>\n",
              "      <td>8</td>\n",
              "      <td>400</td>\n",
              "      <td>150</td>\n",
              "      <td>3761</td>\n",
              "      <td>10</td>\n",
              "      <td>1971</td>\n",
              "      <td>US.</td>\n",
              "    </tr>\n",
              "    <tr>\n",
              "      <th>4</th>\n",
              "      <td>30.5</td>\n",
              "      <td>4</td>\n",
              "      <td>98</td>\n",
              "      <td>63</td>\n",
              "      <td>2051</td>\n",
              "      <td>17</td>\n",
              "      <td>1978</td>\n",
              "      <td>US.</td>\n",
              "    </tr>\n",
              "  </tbody>\n",
              "</table>\n",
              "</div>"
            ],
            "text/plain": [
              "    mpg  cylinders cubicinches   hp weightlbs  time-to-60  year     brand\n",
              "0  14.0          8         350  165      4209          12  1972       US.\n",
              "1  31.9          4          89   71      1925          14  1980   Europe.\n",
              "2  17.0          8         302  140      3449          11  1971       US.\n",
              "3  15.0          8         400  150      3761          10  1971       US.\n",
              "4  30.5          4          98   63      2051          17  1978       US."
            ]
          },
          "metadata": {
            "tags": []
          },
          "execution_count": 5
        }
      ]
    },
    {
      "cell_type": "code",
      "metadata": {
        "id": "QFzhIt5BP28h",
        "colab_type": "code",
        "colab": {
          "base_uri": "https://localhost:8080/",
          "height": 272
        },
        "outputId": "d7341e12-995a-4330-9f13-d9a9d335d8ee"
      },
      "source": [
        "# mostrando as \"características\" das colunas\n",
        "df.info()"
      ],
      "execution_count": 6,
      "outputs": [
        {
          "output_type": "stream",
          "text": [
            "<class 'pandas.core.frame.DataFrame'>\n",
            "RangeIndex: 261 entries, 0 to 260\n",
            "Data columns (total 8 columns):\n",
            " #   Column       Non-Null Count  Dtype  \n",
            "---  ------       --------------  -----  \n",
            " 0   mpg          261 non-null    float64\n",
            " 1   cylinders    261 non-null    int64  \n",
            " 2   cubicinches  261 non-null    object \n",
            " 3   hp           261 non-null    int64  \n",
            " 4   weightlbs    261 non-null    object \n",
            " 5   time-to-60   261 non-null    int64  \n",
            " 6   year         261 non-null    int64  \n",
            " 7   brand        261 non-null    object \n",
            "dtypes: float64(1), int64(4), object(3)\n",
            "memory usage: 16.4+ KB\n"
          ],
          "name": "stdout"
        }
      ]
    },
    {
      "cell_type": "code",
      "metadata": {
        "id": "t0UsglOSgnVe",
        "colab_type": "code",
        "colab": {
          "base_uri": "https://localhost:8080/",
          "height": 35
        },
        "outputId": "d01cee2e-7923-4226-8fca-a83855ec9168"
      },
      "source": [
        "f'{df.dtypes.value_counts()[0]} atributos do tipo {df.dtypes.value_counts().index[0]}, \\\n",
        "{df.dtypes.value_counts()[1]} atributos do tipo {df.dtypes.value_counts().index[1]}, \\\n",
        "e {df.dtypes.value_counts()[2]} atributos do tipo {df.dtypes.value_counts().index[2]}'"
      ],
      "execution_count": 7,
      "outputs": [
        {
          "output_type": "execute_result",
          "data": {
            "application/vnd.google.colaboratory.intrinsic+json": {
              "type": "string"
            },
            "text/plain": [
              "'4 atributos do tipo int64, 3 atributos do tipo object, e 1 atributos do tipo float64'"
            ]
          },
          "metadata": {
            "tags": []
          },
          "execution_count": 7
        }
      ]
    },
    {
      "cell_type": "code",
      "metadata": {
        "id": "gcRW_JJmeZyG",
        "colab_type": "code",
        "colab": {
          "base_uri": "https://localhost:8080/",
          "height": 170
        },
        "outputId": "4f6f1bb7-b214-4ed7-e224-c6eb9e19f8eb"
      },
      "source": [
        "# Contando a quantidade de valores nulos\n",
        "df.isnull().sum()"
      ],
      "execution_count": 8,
      "outputs": [
        {
          "output_type": "execute_result",
          "data": {
            "text/plain": [
              "mpg            0\n",
              "cylinders      0\n",
              "cubicinches    0\n",
              "hp             0\n",
              "weightlbs      0\n",
              "time-to-60     0\n",
              "year           0\n",
              "brand          0\n",
              "dtype: int64"
            ]
          },
          "metadata": {
            "tags": []
          },
          "execution_count": 8
        }
      ]
    },
    {
      "cell_type": "code",
      "metadata": {
        "id": "ILaXqMbZRdPF",
        "colab_type": "code",
        "colab": {
          "base_uri": "https://localhost:8080/",
          "height": 297
        },
        "outputId": "9bb09cd1-a946-477e-9699-ec5010f8e4da"
      },
      "source": [
        "# Resumo estatístico dos dados\n",
        "df.describe()"
      ],
      "execution_count": 9,
      "outputs": [
        {
          "output_type": "execute_result",
          "data": {
            "text/html": [
              "<div>\n",
              "<style scoped>\n",
              "    .dataframe tbody tr th:only-of-type {\n",
              "        vertical-align: middle;\n",
              "    }\n",
              "\n",
              "    .dataframe tbody tr th {\n",
              "        vertical-align: top;\n",
              "    }\n",
              "\n",
              "    .dataframe thead th {\n",
              "        text-align: right;\n",
              "    }\n",
              "</style>\n",
              "<table border=\"1\" class=\"dataframe\">\n",
              "  <thead>\n",
              "    <tr style=\"text-align: right;\">\n",
              "      <th></th>\n",
              "      <th>mpg</th>\n",
              "      <th>cylinders</th>\n",
              "      <th>hp</th>\n",
              "      <th>time-to-60</th>\n",
              "      <th>year</th>\n",
              "    </tr>\n",
              "  </thead>\n",
              "  <tbody>\n",
              "    <tr>\n",
              "      <th>count</th>\n",
              "      <td>261.000000</td>\n",
              "      <td>261.000000</td>\n",
              "      <td>261.000000</td>\n",
              "      <td>261.000000</td>\n",
              "      <td>261.000000</td>\n",
              "    </tr>\n",
              "    <tr>\n",
              "      <th>mean</th>\n",
              "      <td>23.144828</td>\n",
              "      <td>5.590038</td>\n",
              "      <td>106.360153</td>\n",
              "      <td>15.547893</td>\n",
              "      <td>1976.819923</td>\n",
              "    </tr>\n",
              "    <tr>\n",
              "      <th>std</th>\n",
              "      <td>7.823570</td>\n",
              "      <td>1.733310</td>\n",
              "      <td>40.499959</td>\n",
              "      <td>2.910625</td>\n",
              "      <td>3.637696</td>\n",
              "    </tr>\n",
              "    <tr>\n",
              "      <th>min</th>\n",
              "      <td>10.000000</td>\n",
              "      <td>3.000000</td>\n",
              "      <td>46.000000</td>\n",
              "      <td>8.000000</td>\n",
              "      <td>1971.000000</td>\n",
              "    </tr>\n",
              "    <tr>\n",
              "      <th>25%</th>\n",
              "      <td>16.900000</td>\n",
              "      <td>4.000000</td>\n",
              "      <td>75.000000</td>\n",
              "      <td>14.000000</td>\n",
              "      <td>1974.000000</td>\n",
              "    </tr>\n",
              "    <tr>\n",
              "      <th>50%</th>\n",
              "      <td>22.000000</td>\n",
              "      <td>6.000000</td>\n",
              "      <td>95.000000</td>\n",
              "      <td>16.000000</td>\n",
              "      <td>1977.000000</td>\n",
              "    </tr>\n",
              "    <tr>\n",
              "      <th>75%</th>\n",
              "      <td>28.800000</td>\n",
              "      <td>8.000000</td>\n",
              "      <td>138.000000</td>\n",
              "      <td>17.000000</td>\n",
              "      <td>1980.000000</td>\n",
              "    </tr>\n",
              "    <tr>\n",
              "      <th>max</th>\n",
              "      <td>46.600000</td>\n",
              "      <td>8.000000</td>\n",
              "      <td>230.000000</td>\n",
              "      <td>25.000000</td>\n",
              "      <td>1983.000000</td>\n",
              "    </tr>\n",
              "  </tbody>\n",
              "</table>\n",
              "</div>"
            ],
            "text/plain": [
              "              mpg   cylinders          hp  time-to-60         year\n",
              "count  261.000000  261.000000  261.000000  261.000000   261.000000\n",
              "mean    23.144828    5.590038  106.360153   15.547893  1976.819923\n",
              "std      7.823570    1.733310   40.499959    2.910625     3.637696\n",
              "min     10.000000    3.000000   46.000000    8.000000  1971.000000\n",
              "25%     16.900000    4.000000   75.000000   14.000000  1974.000000\n",
              "50%     22.000000    6.000000   95.000000   16.000000  1977.000000\n",
              "75%     28.800000    8.000000  138.000000   17.000000  1980.000000\n",
              "max     46.600000    8.000000  230.000000   25.000000  1983.000000"
            ]
          },
          "metadata": {
            "tags": []
          },
          "execution_count": 9
        }
      ]
    },
    {
      "cell_type": "code",
      "metadata": {
        "id": "CnDisa8YPuKB",
        "colab_type": "code",
        "colab": {
          "base_uri": "https://localhost:8080/",
          "height": 170
        },
        "outputId": "d54cc6a0-8aca-4646-8940-5e16ba5b9b37"
      },
      "source": [
        "# Todos os tipos de dados do dataframe\n",
        "print(df.dtypes)"
      ],
      "execution_count": 10,
      "outputs": [
        {
          "output_type": "stream",
          "text": [
            "mpg            float64\n",
            "cylinders        int64\n",
            "cubicinches     object\n",
            "hp               int64\n",
            "weightlbs       object\n",
            "time-to-60       int64\n",
            "year             int64\n",
            "brand           object\n",
            "dtype: object\n"
          ],
          "name": "stdout"
        }
      ]
    },
    {
      "cell_type": "code",
      "metadata": {
        "id": "tAkacLNnenup",
        "colab_type": "code",
        "colab": {
          "base_uri": "https://localhost:8080/",
          "height": 34
        },
        "outputId": "dc7d7b95-b092-4327-bf97-68a129c7ef2d"
      },
      "source": [
        "# Contando quantas brand diferentes existem no df (ou seja a quantidade de variáveis categoricas)\n",
        "df['brand'].unique()"
      ],
      "execution_count": 11,
      "outputs": [
        {
          "output_type": "execute_result",
          "data": {
            "text/plain": [
              "array([' US.', ' Europe.', ' Japan.'], dtype=object)"
            ]
          },
          "metadata": {
            "tags": []
          },
          "execution_count": 11
        }
      ]
    },
    {
      "cell_type": "code",
      "metadata": {
        "id": "i0bsfSK4ZsBN",
        "colab_type": "code",
        "colab": {
          "base_uri": "https://localhost:8080/",
          "height": 296
        },
        "outputId": "10a75a8f-db3d-458c-96b9-8192432d8f38"
      },
      "source": [
        "# Gráfico mostra os valores únicos da classe para a coluna brand\n",
        "sns.countplot(df['brand'])"
      ],
      "execution_count": 12,
      "outputs": [
        {
          "output_type": "execute_result",
          "data": {
            "text/plain": [
              "<matplotlib.axes._subplots.AxesSubplot at 0x7fdcb1ba20f0>"
            ]
          },
          "metadata": {
            "tags": []
          },
          "execution_count": 12
        },
        {
          "output_type": "display_data",
          "data": {
            "image/png": "[encoded data removed]",
            "text/plain": [
              "<Figure size 432x288 with 1 Axes>"
            ]
          },
          "metadata": {
            "tags": [],
            "needs_background": "light"
          }
        }
      ]
    },
    {
      "cell_type": "markdown",
      "metadata": {
        "id": "fDkB8JxDbkax",
        "colab_type": "text"
      },
      "source": [
        "Como mostra o gráfico acima ele é bem desbalanceado, sendo os carros como maior número desenvolvidos em US."
      ]
    },
    {
      "cell_type": "markdown",
      "metadata": {
        "id": "8GkD_ZVGn5_U",
        "colab_type": "text"
      },
      "source": [
        "## Questionário"
      ]
    },
    {
      "cell_type": "markdown",
      "metadata": {
        "id": "t0TZOhmxm9Sl",
        "colab_type": "text"
      },
      "source": [
        "#### Pergunta 1\n",
        "Após a utilização da biblioteca pandas para a leitura dos dados sobre os valores lidos, é CORRETO afirmar:\n",
        "\n",
        "- Os valores nulos estão presentes apenas para a saída dos dados.\n",
        "\n",
        "- ***Existem apenas duas características do tipo “string”.***\n",
        "\n",
        "- Não foram encontrados valores nulos após a leitura dos dados.\n",
        "\n",
        "- Os valores nulos encontrados estão presentes apenas no variável “cubicinches”."
      ]
    },
    {
      "cell_type": "markdown",
      "metadata": {
        "id": "PaynEisWA-1R",
        "colab_type": "text"
      },
      "source": [
        "#### Pergunta 2\n",
        "Realize a transformação das colunas “cubicinches” e “weightlbs” do tipo “string” para o tipo numérico utilizando o pd.to_numeric(), utilizando o parâmetro errors='coerce'. Após essa transformação é CORRETO afirmar:\n",
        "\n",
        "- Após essa transformação não ocorreu a introdução de valores nulos.\n",
        "\n",
        "- Após a transformação não ocorre mudanças no tipo de variáveis.\n",
        "\n",
        "- ***Essa transformação adiciona valores nulos ao nosso dataset.***\n",
        "\n",
        "- Essa transformação deve ser realizada apenas para valores nulos."
      ]
    },
    {
      "cell_type": "code",
      "metadata": {
        "id": "akcfbJzr_erY",
        "colab_type": "code",
        "colab": {
          "base_uri": "https://localhost:8080/",
          "height": 68
        },
        "outputId": "8678a54c-de68-413a-da52-532f8631b4a0"
      },
      "source": [
        "cols = ['cubicinches', 'weightlbs']\n",
        "df[cols] = df[cols].apply(pd.to_numeric, errors='coerce', axis=1)\n",
        "df[cols].isnull().sum()"
      ],
      "execution_count": 13,
      "outputs": [
        {
          "output_type": "execute_result",
          "data": {
            "text/plain": [
              "cubicinches    2\n",
              "weightlbs      3\n",
              "dtype: int64"
            ]
          },
          "metadata": {
            "tags": []
          },
          "execution_count": 13
        }
      ]
    },
    {
      "cell_type": "markdown",
      "metadata": {
        "id": "ivgutM3FA_Hn",
        "colab_type": "text"
      },
      "source": [
        "#### Pergunta 3\n",
        "Indique quais eram os índices dos valores presentes no dataset que “forçaram” o pandas a compreender a variável “cubicinches” como string.\n",
        "\n",
        "- ***40 e 180.***\n",
        "\n",
        "- 114 e 180.\n",
        "\n",
        "- 38 e 120.\n",
        "\n",
        "- 33 e 172.\n"
      ]
    },
    {
      "cell_type": "code",
      "metadata": {
        "id": "BZ0jmObFCuQ2",
        "colab_type": "code",
        "colab": {
          "base_uri": "https://localhost:8080/",
          "height": 111
        },
        "outputId": "3d5213ef-7c56-49a9-f574-ccc598e09167"
      },
      "source": [
        "col = ['cubicinches']\n",
        "df[col] = df[col].apply(pd.to_numeric, errors='coerce', axis=1)\n",
        "df1 = df[col]\n",
        "df1[df1.cubicinches.isnull()]"
      ],
      "execution_count": 14,
      "outputs": [
        {
          "output_type": "execute_result",
          "data": {
            "text/html": [
              "<div>\n",
              "<style scoped>\n",
              "    .dataframe tbody tr th:only-of-type {\n",
              "        vertical-align: middle;\n",
              "    }\n",
              "\n",
              "    .dataframe tbody tr th {\n",
              "        vertical-align: top;\n",
              "    }\n",
              "\n",
              "    .dataframe thead th {\n",
              "        text-align: right;\n",
              "    }\n",
              "</style>\n",
              "<table border=\"1\" class=\"dataframe\">\n",
              "  <thead>\n",
              "    <tr style=\"text-align: right;\">\n",
              "      <th></th>\n",
              "      <th>cubicinches</th>\n",
              "    </tr>\n",
              "  </thead>\n",
              "  <tbody>\n",
              "    <tr>\n",
              "      <th>40</th>\n",
              "      <td>NaN</td>\n",
              "    </tr>\n",
              "    <tr>\n",
              "      <th>180</th>\n",
              "      <td>NaN</td>\n",
              "    </tr>\n",
              "  </tbody>\n",
              "</table>\n",
              "</div>"
            ],
            "text/plain": [
              "     cubicinches\n",
              "40           NaN\n",
              "180          NaN"
            ]
          },
          "metadata": {
            "tags": []
          },
          "execution_count": 14
        }
      ]
    },
    {
      "cell_type": "markdown",
      "metadata": {
        "id": "mJTbvIk_A_Kv",
        "colab_type": "text"
      },
      "source": [
        "#### Pergunta 4\n",
        "Após a transformação das variáveis “string” para os valores numéricos, quantos valores nulos (células no dataframe) passaram a existir no dataset?\n",
        "\n",
        "- 6.\n",
        "\n",
        "- 2.\n",
        "\n",
        "- ***5.***\n",
        "\n",
        "- 3."
      ]
    },
    {
      "cell_type": "markdown",
      "metadata": {
        "id": "Gd9jTjPgA_Nz",
        "colab_type": "text"
      },
      "source": [
        "#### Pergunta 5\n",
        "Substitua os valores nulos introduzidos no dataset, após a transformação, pelo valor médio das colunas. Qual é o novo valor médio da coluna “weightlbs”?\n",
        "\n",
        "- 1370,82.\n",
        "\n",
        "- 1367,13.\n",
        "\n",
        "- ***3009,83.***\n",
        "\n",
        "- 3212,48."
      ]
    },
    {
      "cell_type": "code",
      "metadata": {
        "id": "fJMHLtsGcXkc",
        "colab_type": "code",
        "colab": {
          "base_uri": "https://localhost:8080/",
          "height": 119
        },
        "outputId": "2e40dc0c-d77d-4d36-e301-62788660ede2"
      },
      "source": [
        "cols = ['weightlbs']\n",
        "df[cols] = df[cols].apply(pd.to_numeric, errors='coerce', axis=1)\n",
        "df4 = df[cols]\n",
        "print(f'mean com nulos: {df4.mean()}')\n",
        "df4.fillna(df4.mean(), inplace=True)\n",
        "print(f'Ainda exitem nulos: {df4.isnull().sum()}')\n",
        "print(f'mean: {df4.mean()}')"
      ],
      "execution_count": 15,
      "outputs": [
        {
          "output_type": "stream",
          "text": [
            "mean com nulos: weightlbs    3009.833333\n",
            "dtype: float64\n",
            "Ainda exitem nulos: weightlbs    0\n",
            "dtype: int64\n",
            "mean: weightlbs    3009.833333\n",
            "dtype: float64\n"
          ],
          "name": "stdout"
        }
      ]
    },
    {
      "cell_type": "markdown",
      "metadata": {
        "id": "DrkFWUjFA_Q8",
        "colab_type": "text"
      },
      "source": [
        "#### Pergunta 6\n",
        "Após substituir os valores nulos pela média das colunas, selecione as colunas ['mpg', 'cylinders', 'cubicinches', 'hp', 'weightlbs', 'time-to-60', 'year']. Qual é o valor da mediana para a característica 'mpg'?\n",
        "\n",
        "- ***22,0.***\n",
        "\n",
        "- 26,3.\n",
        "\n",
        "- 14,8.\n",
        "\n",
        "- 31,4."
      ]
    },
    {
      "cell_type": "code",
      "metadata": {
        "id": "oTP92T_ZhODR",
        "colab_type": "code",
        "colab": {
          "base_uri": "https://localhost:8080/",
          "height": 68
        },
        "outputId": "01c27d2d-2ef3-4e07-cbba-b0dfc4935e58"
      },
      "source": [
        "cols = ['cubicinches', 'weightlbs']\n",
        "df[cols] = df[cols].apply(pd.to_numeric, errors='coerce', axis=1)\n",
        "df6 = df[cols]\n",
        "df6.fillna(df6.mean(), inplace=True)\n",
        "df6.isnull().sum()"
      ],
      "execution_count": 16,
      "outputs": [
        {
          "output_type": "execute_result",
          "data": {
            "text/plain": [
              "cubicinches    0\n",
              "weightlbs      0\n",
              "dtype: int64"
            ]
          },
          "metadata": {
            "tags": []
          },
          "execution_count": 16
        }
      ]
    },
    {
      "cell_type": "code",
      "metadata": {
        "id": "MA34mjdYlWIm",
        "colab_type": "code",
        "colab": {
          "base_uri": "https://localhost:8080/",
          "height": 419
        },
        "outputId": "2517ac1d-5cf3-44ef-b9f9-f405dbd2dbbb"
      },
      "source": [
        "df6"
      ],
      "execution_count": 17,
      "outputs": [
        {
          "output_type": "execute_result",
          "data": {
            "text/html": [
              "<div>\n",
              "<style scoped>\n",
              "    .dataframe tbody tr th:only-of-type {\n",
              "        vertical-align: middle;\n",
              "    }\n",
              "\n",
              "    .dataframe tbody tr th {\n",
              "        vertical-align: top;\n",
              "    }\n",
              "\n",
              "    .dataframe thead th {\n",
              "        text-align: right;\n",
              "    }\n",
              "</style>\n",
              "<table border=\"1\" class=\"dataframe\">\n",
              "  <thead>\n",
              "    <tr style=\"text-align: right;\">\n",
              "      <th></th>\n",
              "      <th>cubicinches</th>\n",
              "      <th>weightlbs</th>\n",
              "    </tr>\n",
              "  </thead>\n",
              "  <tbody>\n",
              "    <tr>\n",
              "      <th>0</th>\n",
              "      <td>350.0</td>\n",
              "      <td>4209.0</td>\n",
              "    </tr>\n",
              "    <tr>\n",
              "      <th>1</th>\n",
              "      <td>89.0</td>\n",
              "      <td>1925.0</td>\n",
              "    </tr>\n",
              "    <tr>\n",
              "      <th>2</th>\n",
              "      <td>302.0</td>\n",
              "      <td>3449.0</td>\n",
              "    </tr>\n",
              "    <tr>\n",
              "      <th>3</th>\n",
              "      <td>400.0</td>\n",
              "      <td>3761.0</td>\n",
              "    </tr>\n",
              "    <tr>\n",
              "      <th>4</th>\n",
              "      <td>98.0</td>\n",
              "      <td>2051.0</td>\n",
              "    </tr>\n",
              "    <tr>\n",
              "      <th>...</th>\n",
              "      <td>...</td>\n",
              "      <td>...</td>\n",
              "    </tr>\n",
              "    <tr>\n",
              "      <th>256</th>\n",
              "      <td>305.0</td>\n",
              "      <td>3840.0</td>\n",
              "    </tr>\n",
              "    <tr>\n",
              "      <th>257</th>\n",
              "      <td>91.0</td>\n",
              "      <td>1800.0</td>\n",
              "    </tr>\n",
              "    <tr>\n",
              "      <th>258</th>\n",
              "      <td>232.0</td>\n",
              "      <td>2835.0</td>\n",
              "    </tr>\n",
              "    <tr>\n",
              "      <th>259</th>\n",
              "      <td>232.0</td>\n",
              "      <td>3288.0</td>\n",
              "    </tr>\n",
              "    <tr>\n",
              "      <th>260</th>\n",
              "      <td>250.0</td>\n",
              "      <td>3353.0</td>\n",
              "    </tr>\n",
              "  </tbody>\n",
              "</table>\n",
              "<p>261 rows × 2 columns</p>\n",
              "</div>"
            ],
            "text/plain": [
              "     cubicinches  weightlbs\n",
              "0          350.0     4209.0\n",
              "1           89.0     1925.0\n",
              "2          302.0     3449.0\n",
              "3          400.0     3761.0\n",
              "4           98.0     2051.0\n",
              "..           ...        ...\n",
              "256        305.0     3840.0\n",
              "257         91.0     1800.0\n",
              "258        232.0     2835.0\n",
              "259        232.0     3288.0\n",
              "260        250.0     3353.0\n",
              "\n",
              "[261 rows x 2 columns]"
            ]
          },
          "metadata": {
            "tags": []
          },
          "execution_count": 17
        }
      ]
    },
    {
      "cell_type": "code",
      "metadata": {
        "id": "a4u4apPmjcb3",
        "colab_type": "code",
        "colab": {
          "base_uri": "https://localhost:8080/",
          "height": 419
        },
        "outputId": "add7e3a7-d67c-4873-fef4-10c593a4bad8"
      },
      "source": [
        "cols_two = ['mpg', 'cylinders','hp', 'time-to-60', 'year']\n",
        "df7 = df[cols_two]\n",
        "df7"
      ],
      "execution_count": 18,
      "outputs": [
        {
          "output_type": "execute_result",
          "data": {
            "text/html": [
              "<div>\n",
              "<style scoped>\n",
              "    .dataframe tbody tr th:only-of-type {\n",
              "        vertical-align: middle;\n",
              "    }\n",
              "\n",
              "    .dataframe tbody tr th {\n",
              "        vertical-align: top;\n",
              "    }\n",
              "\n",
              "    .dataframe thead th {\n",
              "        text-align: right;\n",
              "    }\n",
              "</style>\n",
              "<table border=\"1\" class=\"dataframe\">\n",
              "  <thead>\n",
              "    <tr style=\"text-align: right;\">\n",
              "      <th></th>\n",
              "      <th>mpg</th>\n",
              "      <th>cylinders</th>\n",
              "      <th>hp</th>\n",
              "      <th>time-to-60</th>\n",
              "      <th>year</th>\n",
              "    </tr>\n",
              "  </thead>\n",
              "  <tbody>\n",
              "    <tr>\n",
              "      <th>0</th>\n",
              "      <td>14.0</td>\n",
              "      <td>8</td>\n",
              "      <td>165</td>\n",
              "      <td>12</td>\n",
              "      <td>1972</td>\n",
              "    </tr>\n",
              "    <tr>\n",
              "      <th>1</th>\n",
              "      <td>31.9</td>\n",
              "      <td>4</td>\n",
              "      <td>71</td>\n",
              "      <td>14</td>\n",
              "      <td>1980</td>\n",
              "    </tr>\n",
              "    <tr>\n",
              "      <th>2</th>\n",
              "      <td>17.0</td>\n",
              "      <td>8</td>\n",
              "      <td>140</td>\n",
              "      <td>11</td>\n",
              "      <td>1971</td>\n",
              "    </tr>\n",
              "    <tr>\n",
              "      <th>3</th>\n",
              "      <td>15.0</td>\n",
              "      <td>8</td>\n",
              "      <td>150</td>\n",
              "      <td>10</td>\n",
              "      <td>1971</td>\n",
              "    </tr>\n",
              "    <tr>\n",
              "      <th>4</th>\n",
              "      <td>30.5</td>\n",
              "      <td>4</td>\n",
              "      <td>63</td>\n",
              "      <td>17</td>\n",
              "      <td>1978</td>\n",
              "    </tr>\n",
              "    <tr>\n",
              "      <th>...</th>\n",
              "      <td>...</td>\n",
              "      <td>...</td>\n",
              "      <td>...</td>\n",
              "      <td>...</td>\n",
              "      <td>...</td>\n",
              "    </tr>\n",
              "    <tr>\n",
              "      <th>256</th>\n",
              "      <td>17.0</td>\n",
              "      <td>8</td>\n",
              "      <td>130</td>\n",
              "      <td>15</td>\n",
              "      <td>1980</td>\n",
              "    </tr>\n",
              "    <tr>\n",
              "      <th>257</th>\n",
              "      <td>36.1</td>\n",
              "      <td>4</td>\n",
              "      <td>60</td>\n",
              "      <td>16</td>\n",
              "      <td>1979</td>\n",
              "    </tr>\n",
              "    <tr>\n",
              "      <th>258</th>\n",
              "      <td>22.0</td>\n",
              "      <td>6</td>\n",
              "      <td>112</td>\n",
              "      <td>15</td>\n",
              "      <td>1983</td>\n",
              "    </tr>\n",
              "    <tr>\n",
              "      <th>259</th>\n",
              "      <td>18.0</td>\n",
              "      <td>6</td>\n",
              "      <td>100</td>\n",
              "      <td>16</td>\n",
              "      <td>1972</td>\n",
              "    </tr>\n",
              "    <tr>\n",
              "      <th>260</th>\n",
              "      <td>22.0</td>\n",
              "      <td>6</td>\n",
              "      <td>105</td>\n",
              "      <td>15</td>\n",
              "      <td>1977</td>\n",
              "    </tr>\n",
              "  </tbody>\n",
              "</table>\n",
              "<p>261 rows × 5 columns</p>\n",
              "</div>"
            ],
            "text/plain": [
              "      mpg  cylinders   hp  time-to-60  year\n",
              "0    14.0          8  165          12  1972\n",
              "1    31.9          4   71          14  1980\n",
              "2    17.0          8  140          11  1971\n",
              "3    15.0          8  150          10  1971\n",
              "4    30.5          4   63          17  1978\n",
              "..    ...        ...  ...         ...   ...\n",
              "256  17.0          8  130          15  1980\n",
              "257  36.1          4   60          16  1979\n",
              "258  22.0          6  112          15  1983\n",
              "259  18.0          6  100          16  1972\n",
              "260  22.0          6  105          15  1977\n",
              "\n",
              "[261 rows x 5 columns]"
            ]
          },
          "metadata": {
            "tags": []
          },
          "execution_count": 18
        }
      ]
    },
    {
      "cell_type": "code",
      "metadata": {
        "id": "py8LcAF1ldpA",
        "colab_type": "code",
        "colab": {
          "base_uri": "https://localhost:8080/",
          "height": 419
        },
        "outputId": "67180ed5-ed34-4f57-88f2-749799b19328"
      },
      "source": [
        "cars_df = pd.concat([df6, df7], axis=1)\n",
        "cars_df"
      ],
      "execution_count": 19,
      "outputs": [
        {
          "output_type": "execute_result",
          "data": {
            "text/html": [
              "<div>\n",
              "<style scoped>\n",
              "    .dataframe tbody tr th:only-of-type {\n",
              "        vertical-align: middle;\n",
              "    }\n",
              "\n",
              "    .dataframe tbody tr th {\n",
              "        vertical-align: top;\n",
              "    }\n",
              "\n",
              "    .dataframe thead th {\n",
              "        text-align: right;\n",
              "    }\n",
              "</style>\n",
              "<table border=\"1\" class=\"dataframe\">\n",
              "  <thead>\n",
              "    <tr style=\"text-align: right;\">\n",
              "      <th></th>\n",
              "      <th>cubicinches</th>\n",
              "      <th>weightlbs</th>\n",
              "      <th>mpg</th>\n",
              "      <th>cylinders</th>\n",
              "      <th>hp</th>\n",
              "      <th>time-to-60</th>\n",
              "      <th>year</th>\n",
              "    </tr>\n",
              "  </thead>\n",
              "  <tbody>\n",
              "    <tr>\n",
              "      <th>0</th>\n",
              "      <td>350.0</td>\n",
              "      <td>4209.0</td>\n",
              "      <td>14.0</td>\n",
              "      <td>8</td>\n",
              "      <td>165</td>\n",
              "      <td>12</td>\n",
              "      <td>1972</td>\n",
              "    </tr>\n",
              "    <tr>\n",
              "      <th>1</th>\n",
              "      <td>89.0</td>\n",
              "      <td>1925.0</td>\n",
              "      <td>31.9</td>\n",
              "      <td>4</td>\n",
              "      <td>71</td>\n",
              "      <td>14</td>\n",
              "      <td>1980</td>\n",
              "    </tr>\n",
              "    <tr>\n",
              "      <th>2</th>\n",
              "      <td>302.0</td>\n",
              "      <td>3449.0</td>\n",
              "      <td>17.0</td>\n",
              "      <td>8</td>\n",
              "      <td>140</td>\n",
              "      <td>11</td>\n",
              "      <td>1971</td>\n",
              "    </tr>\n",
              "    <tr>\n",
              "      <th>3</th>\n",
              "      <td>400.0</td>\n",
              "      <td>3761.0</td>\n",
              "      <td>15.0</td>\n",
              "      <td>8</td>\n",
              "      <td>150</td>\n",
              "      <td>10</td>\n",
              "      <td>1971</td>\n",
              "    </tr>\n",
              "    <tr>\n",
              "      <th>4</th>\n",
              "      <td>98.0</td>\n",
              "      <td>2051.0</td>\n",
              "      <td>30.5</td>\n",
              "      <td>4</td>\n",
              "      <td>63</td>\n",
              "      <td>17</td>\n",
              "      <td>1978</td>\n",
              "    </tr>\n",
              "    <tr>\n",
              "      <th>...</th>\n",
              "      <td>...</td>\n",
              "      <td>...</td>\n",
              "      <td>...</td>\n",
              "      <td>...</td>\n",
              "      <td>...</td>\n",
              "      <td>...</td>\n",
              "      <td>...</td>\n",
              "    </tr>\n",
              "    <tr>\n",
              "      <th>256</th>\n",
              "      <td>305.0</td>\n",
              "      <td>3840.0</td>\n",
              "      <td>17.0</td>\n",
              "      <td>8</td>\n",
              "      <td>130</td>\n",
              "      <td>15</td>\n",
              "      <td>1980</td>\n",
              "    </tr>\n",
              "    <tr>\n",
              "      <th>257</th>\n",
              "      <td>91.0</td>\n",
              "      <td>1800.0</td>\n",
              "      <td>36.1</td>\n",
              "      <td>4</td>\n",
              "      <td>60</td>\n",
              "      <td>16</td>\n",
              "      <td>1979</td>\n",
              "    </tr>\n",
              "    <tr>\n",
              "      <th>258</th>\n",
              "      <td>232.0</td>\n",
              "      <td>2835.0</td>\n",
              "      <td>22.0</td>\n",
              "      <td>6</td>\n",
              "      <td>112</td>\n",
              "      <td>15</td>\n",
              "      <td>1983</td>\n",
              "    </tr>\n",
              "    <tr>\n",
              "      <th>259</th>\n",
              "      <td>232.0</td>\n",
              "      <td>3288.0</td>\n",
              "      <td>18.0</td>\n",
              "      <td>6</td>\n",
              "      <td>100</td>\n",
              "      <td>16</td>\n",
              "      <td>1972</td>\n",
              "    </tr>\n",
              "    <tr>\n",
              "      <th>260</th>\n",
              "      <td>250.0</td>\n",
              "      <td>3353.0</td>\n",
              "      <td>22.0</td>\n",
              "      <td>6</td>\n",
              "      <td>105</td>\n",
              "      <td>15</td>\n",
              "      <td>1977</td>\n",
              "    </tr>\n",
              "  </tbody>\n",
              "</table>\n",
              "<p>261 rows × 7 columns</p>\n",
              "</div>"
            ],
            "text/plain": [
              "     cubicinches  weightlbs   mpg  cylinders   hp  time-to-60  year\n",
              "0          350.0     4209.0  14.0          8  165          12  1972\n",
              "1           89.0     1925.0  31.9          4   71          14  1980\n",
              "2          302.0     3449.0  17.0          8  140          11  1971\n",
              "3          400.0     3761.0  15.0          8  150          10  1971\n",
              "4           98.0     2051.0  30.5          4   63          17  1978\n",
              "..           ...        ...   ...        ...  ...         ...   ...\n",
              "256        305.0     3840.0  17.0          8  130          15  1980\n",
              "257         91.0     1800.0  36.1          4   60          16  1979\n",
              "258        232.0     2835.0  22.0          6  112          15  1983\n",
              "259        232.0     3288.0  18.0          6  100          16  1972\n",
              "260        250.0     3353.0  22.0          6  105          15  1977\n",
              "\n",
              "[261 rows x 7 columns]"
            ]
          },
          "metadata": {
            "tags": []
          },
          "execution_count": 19
        }
      ]
    },
    {
      "cell_type": "code",
      "metadata": {
        "id": "Bqw3LARlmSpB",
        "colab_type": "code",
        "colab": {
          "base_uri": "https://localhost:8080/",
          "height": 297
        },
        "outputId": "456dbf60-9415-424a-98e1-07186da20fb0"
      },
      "source": [
        "cars_df.describe()"
      ],
      "execution_count": 20,
      "outputs": [
        {
          "output_type": "execute_result",
          "data": {
            "text/html": [
              "<div>\n",
              "<style scoped>\n",
              "    .dataframe tbody tr th:only-of-type {\n",
              "        vertical-align: middle;\n",
              "    }\n",
              "\n",
              "    .dataframe tbody tr th {\n",
              "        vertical-align: top;\n",
              "    }\n",
              "\n",
              "    .dataframe thead th {\n",
              "        text-align: right;\n",
              "    }\n",
              "</style>\n",
              "<table border=\"1\" class=\"dataframe\">\n",
              "  <thead>\n",
              "    <tr style=\"text-align: right;\">\n",
              "      <th></th>\n",
              "      <th>cubicinches</th>\n",
              "      <th>weightlbs</th>\n",
              "      <th>mpg</th>\n",
              "      <th>cylinders</th>\n",
              "      <th>hp</th>\n",
              "      <th>time-to-60</th>\n",
              "      <th>year</th>\n",
              "    </tr>\n",
              "  </thead>\n",
              "  <tbody>\n",
              "    <tr>\n",
              "      <th>count</th>\n",
              "      <td>261.000000</td>\n",
              "      <td>261.000000</td>\n",
              "      <td>261.000000</td>\n",
              "      <td>261.000000</td>\n",
              "      <td>261.000000</td>\n",
              "      <td>261.000000</td>\n",
              "      <td>261.000000</td>\n",
              "    </tr>\n",
              "    <tr>\n",
              "      <th>mean</th>\n",
              "      <td>200.918919</td>\n",
              "      <td>3009.833333</td>\n",
              "      <td>23.144828</td>\n",
              "      <td>5.590038</td>\n",
              "      <td>106.360153</td>\n",
              "      <td>15.547893</td>\n",
              "      <td>1976.819923</td>\n",
              "    </tr>\n",
              "    <tr>\n",
              "      <th>std</th>\n",
              "      <td>108.837269</td>\n",
              "      <td>849.097575</td>\n",
              "      <td>7.823570</td>\n",
              "      <td>1.733310</td>\n",
              "      <td>40.499959</td>\n",
              "      <td>2.910625</td>\n",
              "      <td>3.637696</td>\n",
              "    </tr>\n",
              "    <tr>\n",
              "      <th>min</th>\n",
              "      <td>68.000000</td>\n",
              "      <td>1613.000000</td>\n",
              "      <td>10.000000</td>\n",
              "      <td>3.000000</td>\n",
              "      <td>46.000000</td>\n",
              "      <td>8.000000</td>\n",
              "      <td>1971.000000</td>\n",
              "    </tr>\n",
              "    <tr>\n",
              "      <th>25%</th>\n",
              "      <td>101.000000</td>\n",
              "      <td>2254.000000</td>\n",
              "      <td>16.900000</td>\n",
              "      <td>4.000000</td>\n",
              "      <td>75.000000</td>\n",
              "      <td>14.000000</td>\n",
              "      <td>1974.000000</td>\n",
              "    </tr>\n",
              "    <tr>\n",
              "      <th>50%</th>\n",
              "      <td>156.000000</td>\n",
              "      <td>2904.000000</td>\n",
              "      <td>22.000000</td>\n",
              "      <td>6.000000</td>\n",
              "      <td>95.000000</td>\n",
              "      <td>16.000000</td>\n",
              "      <td>1977.000000</td>\n",
              "    </tr>\n",
              "    <tr>\n",
              "      <th>75%</th>\n",
              "      <td>302.000000</td>\n",
              "      <td>3664.000000</td>\n",
              "      <td>28.800000</td>\n",
              "      <td>8.000000</td>\n",
              "      <td>138.000000</td>\n",
              "      <td>17.000000</td>\n",
              "      <td>1980.000000</td>\n",
              "    </tr>\n",
              "    <tr>\n",
              "      <th>max</th>\n",
              "      <td>455.000000</td>\n",
              "      <td>4997.000000</td>\n",
              "      <td>46.600000</td>\n",
              "      <td>8.000000</td>\n",
              "      <td>230.000000</td>\n",
              "      <td>25.000000</td>\n",
              "      <td>1983.000000</td>\n",
              "    </tr>\n",
              "  </tbody>\n",
              "</table>\n",
              "</div>"
            ],
            "text/plain": [
              "       cubicinches    weightlbs  ...  time-to-60         year\n",
              "count   261.000000   261.000000  ...  261.000000   261.000000\n",
              "mean    200.918919  3009.833333  ...   15.547893  1976.819923\n",
              "std     108.837269   849.097575  ...    2.910625     3.637696\n",
              "min      68.000000  1613.000000  ...    8.000000  1971.000000\n",
              "25%     101.000000  2254.000000  ...   14.000000  1974.000000\n",
              "50%     156.000000  2904.000000  ...   16.000000  1977.000000\n",
              "75%     302.000000  3664.000000  ...   17.000000  1980.000000\n",
              "max     455.000000  4997.000000  ...   25.000000  1983.000000\n",
              "\n",
              "[8 rows x 7 columns]"
            ]
          },
          "metadata": {
            "tags": []
          },
          "execution_count": 20
        }
      ]
    },
    {
      "cell_type": "code",
      "metadata": {
        "id": "IfoJdQsEummo",
        "colab_type": "code",
        "colab": {}
      },
      "source": [
        "factors = ['cubicinches','weightlbs','mpg','cylinders','time-to-60','year']\n",
        "X = pd.DataFrame(cars_df[factors].copy())\n",
        "y = cars_df['mpg'].copy()"
      ],
      "execution_count": null,
      "outputs": []
    },
    {
      "cell_type": "markdown",
      "metadata": {
        "id": "13u1dgaUA_UN",
        "colab_type": "text"
      },
      "source": [
        "#### Pergunta 7\n",
        "Qual é a afirmação CORRETA sobre o valor de 14,00 para a variável “time-to-60”?\n",
        "\n",
        "- 25% dos valores de “time-to-60” são superiores ou iguais a 14,00.\n",
        "\n",
        "- Apenas por esse valor é possível afirmar que existe uma menor dispersão entre valores inferiores a 14,00.\n",
        "\n",
        "- ***75% dos dados são maiores que o valor de 14,00.***\n",
        "\n",
        "- Como esse valor representa a mediana para essa variável, é possível dizer que 50% dos valores são superiores a 14,00."
      ]
    },
    {
      "cell_type": "code",
      "metadata": {
        "id": "ShID26JWm0_0",
        "colab_type": "code",
        "colab": {
          "base_uri": "https://localhost:8080/",
          "height": 170
        },
        "outputId": "d1e1dc12-87e2-4af6-9b33-8b774d31c5d0"
      },
      "source": [
        "time_to = cars_df['time-to-60']\n",
        "time_to.describe()"
      ],
      "execution_count": 21,
      "outputs": [
        {
          "output_type": "execute_result",
          "data": {
            "text/plain": [
              "count    261.000000\n",
              "mean      15.547893\n",
              "std        2.910625\n",
              "min        8.000000\n",
              "25%       14.000000\n",
              "50%       16.000000\n",
              "75%       17.000000\n",
              "max       25.000000\n",
              "Name: time-to-60, dtype: float64"
            ]
          },
          "metadata": {
            "tags": []
          },
          "execution_count": 21
        }
      ]
    },
    {
      "cell_type": "markdown",
      "metadata": {
        "id": "oforyiIDA_ZK",
        "colab_type": "text"
      },
      "source": [
        "#### Pergunta 8\n",
        "Sobre o coeficiente de correlação de Pearson entre as variáveis “cylinders” e “mpg”, é correto afirmar, EXCETO:\n",
        "\n",
        "- Mesmo não sendo igual a 1, é possível dizer que à medida que a variável “cylinders” aumenta, a variável “mpg” reduz em uma direção oposta.\n",
        "\n",
        "- Quando um coeficiente de correlação de Pearson é igual a 1, o coeficiente de determinação também será igual a 1.\n",
        "\n",
        "- Caso fosse calculado o coeficiente de determinação entre essas duas variáveis, o valor seria, aproximadamente, 0,6.\n",
        "\n",
        "- ***Mesmo não sendo igual a 1, é possível dizer que à medida que a variável “cylinders” aumenta, a variável “mpg” também aumenta em uma mesma direção.***"
      ]
    },
    {
      "cell_type": "code",
      "metadata": {
        "id": "OpDac0I3qFQV",
        "colab_type": "code",
        "colab": {
          "base_uri": "https://localhost:8080/",
          "height": 111
        },
        "outputId": "6f2bdc1b-a726-4f0f-e1f7-ce1f987fc6fe"
      },
      "source": [
        "correlation = cars_df[['cylinders', 'mpg']].corr(method='pearson')\n",
        "correlation"
      ],
      "execution_count": 22,
      "outputs": [
        {
          "output_type": "execute_result",
          "data": {
            "text/html": [
              "<div>\n",
              "<style scoped>\n",
              "    .dataframe tbody tr th:only-of-type {\n",
              "        vertical-align: middle;\n",
              "    }\n",
              "\n",
              "    .dataframe tbody tr th {\n",
              "        vertical-align: top;\n",
              "    }\n",
              "\n",
              "    .dataframe thead th {\n",
              "        text-align: right;\n",
              "    }\n",
              "</style>\n",
              "<table border=\"1\" class=\"dataframe\">\n",
              "  <thead>\n",
              "    <tr style=\"text-align: right;\">\n",
              "      <th></th>\n",
              "      <th>cylinders</th>\n",
              "      <th>mpg</th>\n",
              "    </tr>\n",
              "  </thead>\n",
              "  <tbody>\n",
              "    <tr>\n",
              "      <th>cylinders</th>\n",
              "      <td>1.00000</td>\n",
              "      <td>-0.77671</td>\n",
              "    </tr>\n",
              "    <tr>\n",
              "      <th>mpg</th>\n",
              "      <td>-0.77671</td>\n",
              "      <td>1.00000</td>\n",
              "    </tr>\n",
              "  </tbody>\n",
              "</table>\n",
              "</div>"
            ],
            "text/plain": [
              "           cylinders      mpg\n",
              "cylinders    1.00000 -0.77671\n",
              "mpg         -0.77671  1.00000"
            ]
          },
          "metadata": {
            "tags": []
          },
          "execution_count": 22
        }
      ]
    },
    {
      "cell_type": "markdown",
      "metadata": {
        "id": "GYZkjSNEA_c2",
        "colab_type": "text"
      },
      "source": [
        "#### Pergunta 9\n",
        "Sobre o boxplot da variável “hp”, é correto afirmar, EXCETO:\n",
        "\n",
        "- Existe uma maior dispersão no segundo quartil quando comparamos com o terceiro.\n",
        "\n",
        "- ***Cada um dos quartis possui a mesma quantidade de valores para a variável “hp”.***\n",
        "\n",
        "- Através do boxplot é possível perceber que a mediana encontra-se entre os valores de 80 e 100.\n",
        "\n",
        "- Não foi identificada a presença de possíveis outliers nos dados."
      ]
    },
    {
      "cell_type": "code",
      "metadata": {
        "id": "v4hg-q3qtJJk",
        "colab_type": "code",
        "colab": {
          "base_uri": "https://localhost:8080/",
          "height": 296
        },
        "outputId": "11e00b0d-8071-47bd-d655-500030b122e8"
      },
      "source": [
        "ax = sns.boxplot(x=cars_df[\"hp\"])\n",
        "ax"
      ],
      "execution_count": 23,
      "outputs": [
        {
          "output_type": "execute_result",
          "data": {
            "text/plain": [
              "<matplotlib.axes._subplots.AxesSubplot at 0x7fdcb1aeeb38>"
            ]
          },
          "metadata": {
            "tags": []
          },
          "execution_count": 23
        },
        {
          "output_type": "display_data",
          "data": {
            "image/png": "[encoded data removed]",
            "text/plain": [
              "<Figure size 432x288 with 1 Axes>"
            ]
          },
          "metadata": {
            "tags": [],
            "needs_background": "light"
          }
        }
      ]
    },
    {
      "cell_type": "markdown",
      "metadata": {
        "id": "U0kTJfwIA_gd",
        "colab_type": "text"
      },
      "source": [
        "#### Pergunta 10\n",
        "Após normalizado, utilizando a função StandardScaler(), qual é o maior valor para a variável “hp”?\n",
        "\n",
        "- 1,23\n",
        "\n",
        "- 1,45\n",
        "\n",
        "- 1,01\n",
        "\n",
        "- 1,18"
      ]
    },
    {
      "cell_type": "code",
      "metadata": {
        "id": "wW7Zo1k1vj0F",
        "colab_type": "code",
        "colab": {
          "base_uri": "https://localhost:8080/",
          "height": 238
        },
        "outputId": "448415bc-f907-4919-f5e9-25d52ba25d10"
      },
      "source": [
        "scaler = StandardScaler()\n",
        "scaled = scaler.fit_transform(cars_df)\n",
        "scaled"
      ],
      "execution_count": 24,
      "outputs": [
        {
          "output_type": "execute_result",
          "data": {
            "text/plain": [
              "array([[ 1.37239295,  1.41499703, -1.17112732, ...,  1.45068065,\n",
              "        -1.22128734, -1.32753906],\n",
              "       [-1.03028992, -1.28008557,  1.12122635, ..., -0.87476849,\n",
              "        -0.53282946,  0.8758803 ],\n",
              "       [ 0.93052024,  0.51820947, -0.78693397, ...,  0.83221013,\n",
              "        -1.56551627, -1.60296648],\n",
              "       ...,\n",
              "       [ 0.28612253, -0.20630047, -0.14661172, ...,  0.13952316,\n",
              "        -0.18860053,  1.70216257],\n",
              "       [ 0.28612253,  0.32823211, -0.65886952, ..., -0.15734269,\n",
              "         0.15562841, -1.32753906],\n",
              "       [ 0.4518248 ,  0.40493105, -0.14661172, ..., -0.03364859,\n",
              "        -0.18860053,  0.04959804]])"
            ]
          },
          "metadata": {
            "tags": []
          },
          "execution_count": 24
        }
      ]
    },
    {
      "cell_type": "code",
      "metadata": {
        "id": "IwWx9KJUxWeE",
        "colab_type": "code",
        "colab": {
          "base_uri": "https://localhost:8080/",
          "height": 255
        },
        "outputId": "9841b2cc-2e5a-4a62-cf6b-1a1b6a79569c"
      },
      "source": [
        "dataset = pd.DataFrame(scaled)\n",
        "print(dataset)"
      ],
      "execution_count": 25,
      "outputs": [
        {
          "output_type": "stream",
          "text": [
            "            0         1         2         3         4         5         6\n",
            "0    1.372393  1.414997 -1.171127  1.393053  1.450681 -1.221287 -1.327539\n",
            "1   -1.030290 -1.280086  1.121226 -0.919105 -0.874768 -0.532829  0.875880\n",
            "2    0.930520  0.518209 -0.786934  1.393053  0.832210 -1.565516 -1.602966\n",
            "3    1.832677  0.886364 -1.043063  1.393053  1.079598 -1.909745 -1.602966\n",
            "4   -0.947439 -1.131408  0.941936 -0.919105 -1.072679  0.499857  0.325025\n",
            "..        ...       ...       ...       ...       ...       ...       ...\n",
            "256  0.958137  0.979583 -0.786934  1.393053  0.584822 -0.188601  0.875880\n",
            "257 -1.011879 -1.427584  1.659097 -0.919105 -1.146896  0.155628  0.600453\n",
            "258  0.286123 -0.206300 -0.146612  0.236974  0.139523 -0.188601  1.702163\n",
            "259  0.286123  0.328232 -0.658870  0.236974 -0.157343  0.155628 -1.327539\n",
            "260  0.451825  0.404931 -0.146612  0.236974 -0.033649 -0.188601  0.049598\n",
            "\n",
            "[261 rows x 7 columns]\n"
          ],
          "name": "stdout"
        }
      ]
    },
    {
      "cell_type": "code",
      "metadata": {
        "id": "rgH4yIEt4fns",
        "colab_type": "code",
        "colab": {
          "base_uri": "https://localhost:8080/",
          "height": 297
        },
        "outputId": "41bd477a-64a0-41cf-b5ec-dec71750756c"
      },
      "source": [
        "normaliza = dataset.rename(columns = {0:'cubicinches', 1:'weightlbs', 2:'mpg', 3:'cylinders', 4:'hp', 5:'time-to-60', 6:'year'})\n",
        "normaliza.describe()"
      ],
      "execution_count": 26,
      "outputs": [
        {
          "output_type": "execute_result",
          "data": {
            "text/html": [
              "<div>\n",
              "<style scoped>\n",
              "    .dataframe tbody tr th:only-of-type {\n",
              "        vertical-align: middle;\n",
              "    }\n",
              "\n",
              "    .dataframe tbody tr th {\n",
              "        vertical-align: top;\n",
              "    }\n",
              "\n",
              "    .dataframe thead th {\n",
              "        text-align: right;\n",
              "    }\n",
              "</style>\n",
              "<table border=\"1\" class=\"dataframe\">\n",
              "  <thead>\n",
              "    <tr style=\"text-align: right;\">\n",
              "      <th></th>\n",
              "      <th>cubicinches</th>\n",
              "      <th>weightlbs</th>\n",
              "      <th>mpg</th>\n",
              "      <th>cylinders</th>\n",
              "      <th>hp</th>\n",
              "      <th>time-to-60</th>\n",
              "      <th>year</th>\n",
              "    </tr>\n",
              "  </thead>\n",
              "  <tbody>\n",
              "    <tr>\n",
              "      <th>count</th>\n",
              "      <td>2.610000e+02</td>\n",
              "      <td>2.610000e+02</td>\n",
              "      <td>2.610000e+02</td>\n",
              "      <td>2.610000e+02</td>\n",
              "      <td>2.610000e+02</td>\n",
              "      <td>2.610000e+02</td>\n",
              "      <td>2.610000e+02</td>\n",
              "    </tr>\n",
              "    <tr>\n",
              "      <th>mean</th>\n",
              "      <td>-1.203805e-16</td>\n",
              "      <td>-1.648320e-16</td>\n",
              "      <td>3.143505e-16</td>\n",
              "      <td>2.124737e-16</td>\n",
              "      <td>9.831429e-17</td>\n",
              "      <td>-2.043916e-16</td>\n",
              "      <td>-2.605329e-15</td>\n",
              "    </tr>\n",
              "    <tr>\n",
              "      <th>std</th>\n",
              "      <td>1.001921e+00</td>\n",
              "      <td>1.001921e+00</td>\n",
              "      <td>1.001921e+00</td>\n",
              "      <td>1.001921e+00</td>\n",
              "      <td>1.001921e+00</td>\n",
              "      <td>1.001921e+00</td>\n",
              "      <td>1.001921e+00</td>\n",
              "    </tr>\n",
              "    <tr>\n",
              "      <th>min</th>\n",
              "      <td>-1.223609e+00</td>\n",
              "      <td>-1.648240e+00</td>\n",
              "      <td>-1.683385e+00</td>\n",
              "      <td>-1.497144e+00</td>\n",
              "      <td>-1.493239e+00</td>\n",
              "      <td>-2.598203e+00</td>\n",
              "      <td>-1.602966e+00</td>\n",
              "    </tr>\n",
              "    <tr>\n",
              "      <th>25%</th>\n",
              "      <td>-9.198217e-01</td>\n",
              "      <td>-8.918710e-01</td>\n",
              "      <td>-7.997404e-01</td>\n",
              "      <td>-9.191048e-01</td>\n",
              "      <td>-7.758132e-01</td>\n",
              "      <td>-5.328295e-01</td>\n",
              "      <td>-7.766842e-01</td>\n",
              "    </tr>\n",
              "    <tr>\n",
              "      <th>50%</th>\n",
              "      <td>-4.135093e-01</td>\n",
              "      <td>-1.248816e-01</td>\n",
              "      <td>-1.466117e-01</td>\n",
              "      <td>2.369740e-01</td>\n",
              "      <td>-2.810368e-01</td>\n",
              "      <td>1.556284e-01</td>\n",
              "      <td>4.959804e-02</td>\n",
              "    </tr>\n",
              "    <tr>\n",
              "      <th>75%</th>\n",
              "      <td>9.305202e-01</td>\n",
              "      <td>7.719060e-01</td>\n",
              "      <td>7.242265e-01</td>\n",
              "      <td>1.393053e+00</td>\n",
              "      <td>7.827325e-01</td>\n",
              "      <td>4.998573e-01</td>\n",
              "      <td>8.758803e-01</td>\n",
              "    </tr>\n",
              "    <tr>\n",
              "      <th>max</th>\n",
              "      <td>2.338990e+00</td>\n",
              "      <td>2.344824e+00</td>\n",
              "      <td>3.003774e+00</td>\n",
              "      <td>1.393053e+00</td>\n",
              "      <td>3.058704e+00</td>\n",
              "      <td>3.253689e+00</td>\n",
              "      <td>1.702163e+00</td>\n",
              "    </tr>\n",
              "  </tbody>\n",
              "</table>\n",
              "</div>"
            ],
            "text/plain": [
              "        cubicinches     weightlbs  ...    time-to-60          year\n",
              "count  2.610000e+02  2.610000e+02  ...  2.610000e+02  2.610000e+02\n",
              "mean  -1.203805e-16 -1.648320e-16  ... -2.043916e-16 -2.605329e-15\n",
              "std    1.001921e+00  1.001921e+00  ...  1.001921e+00  1.001921e+00\n",
              "min   -1.223609e+00 -1.648240e+00  ... -2.598203e+00 -1.602966e+00\n",
              "25%   -9.198217e-01 -8.918710e-01  ... -5.328295e-01 -7.766842e-01\n",
              "50%   -4.135093e-01 -1.248816e-01  ...  1.556284e-01  4.959804e-02\n",
              "75%    9.305202e-01  7.719060e-01  ...  4.998573e-01  8.758803e-01\n",
              "max    2.338990e+00  2.344824e+00  ...  3.253689e+00  1.702163e+00\n",
              "\n",
              "[8 rows x 7 columns]"
            ]
          },
          "metadata": {
            "tags": []
          },
          "execution_count": 26
        }
      ]
    },
    {
      "cell_type": "markdown",
      "metadata": {
        "id": "X4stEVDXA_XS",
        "colab_type": "text"
      },
      "source": [
        "#### Pergunta 11\n",
        "Aplicando o PCA, conforme a definição acima, qual é o valor da variância explicada com pela primeira componente principal?\n",
        "\n",
        "- 92%\n",
        "\n",
        "- 34%\n",
        "\n",
        "- 13%\n",
        "\n",
        "- ***72%***"
      ]
    },
    {
      "cell_type": "code",
      "metadata": {
        "id": "zX-UMiPJ7MFR",
        "colab_type": "code",
        "colab": {}
      },
      "source": [
        "pca = PCA(n_components=7)"
      ],
      "execution_count": 27,
      "outputs": []
    },
    {
      "cell_type": "code",
      "metadata": {
        "id": "EyjL5jlN75EJ",
        "colab_type": "code",
        "colab": {
          "base_uri": "https://localhost:8080/",
          "height": 51
        },
        "outputId": "3e8b40f9-552c-40d1-a340-c1c1efc97871"
      },
      "source": [
        "pca.fit(normaliza)\n",
        "print(pca.explained_variance_ratio_)"
      ],
      "execution_count": 28,
      "outputs": [
        {
          "output_type": "stream",
          "text": [
            "[0.72371349 0.12675138 0.09126131 0.02773591 0.01766794 0.00798425\n",
            " 0.00488572]\n"
          ],
          "name": "stdout"
        }
      ]
    },
    {
      "cell_type": "markdown",
      "metadata": {
        "id": "g46sutIfBP8u",
        "colab_type": "text"
      },
      "source": [
        "#### Pergunta 12\n",
        "Utilize os três primeiros componentes principais para construir o K-means com um número de 3 clusters. Sobre os clusters, é INCORRETO afirmar:\n",
        "\n",
        "- Existem 3 centroides após a aplicação da clusterização.\n",
        "\n",
        "- Os centroides, utilizando apenas as 3 componentes principais, possuem 3 dimensões.\n",
        "\n",
        "- Cada um dos clusters possui características próprias.\n",
        "\n",
        "- Todos os clusters possuem a mesma quantidade de elementos."
      ]
    },
    {
      "cell_type": "code",
      "metadata": {
        "id": "XQHED2K19Eji",
        "colab_type": "code",
        "colab": {}
      },
      "source": [
        "kmeans = KMeans(n_clusters=3, random_state=42).fit(normaliza)"
      ],
      "execution_count": 29,
      "outputs": []
    },
    {
      "cell_type": "code",
      "metadata": {
        "id": "Yuusrs-h_EmT",
        "colab_type": "code",
        "colab": {
          "base_uri": "https://localhost:8080/",
          "height": 119
        },
        "outputId": "0f12cd1f-ac1a-428c-9103-5f28b86bfccb"
      },
      "source": [
        "print(kmeans.cluster_centers_)"
      ],
      "execution_count": 30,
      "outputs": [
        {
          "output_type": "stream",
          "text": [
            "[[-0.20715654 -0.07296664 -0.27580201 -0.19496753 -0.22177237  0.25776227\n",
            "  -0.1985893 ]\n",
            " [-0.88028576 -0.92455236  1.08644674 -0.90085095 -0.85263375  0.55783274\n",
            "   0.59755365]\n",
            " [ 1.36637857  1.25963252 -1.0415261   1.37763847  1.34908656 -1.01933969\n",
            "  -0.51594626]]\n"
          ],
          "name": "stdout"
        }
      ]
    },
    {
      "cell_type": "markdown",
      "metadata": {
        "id": "-tpwAEIxBRZG",
        "colab_type": "text"
      },
      "source": [
        "#### Pergunta 13\n",
        "Após todo o processamento realizado nos itens anteriores, crie uma coluna que contenha a variável de eficiência do veículo. Veículos que percorrem mais de 25 milhas com um galão (“mpg”>25) devem ser considerados eficientes. Utilize as colunas ['cylinders' ,'cubicinches' ,'hp' ,'weightlbs','time-to-60'] como entradas e como saída a coluna de eficiência criada. Utilizando a árvore de decisão como mostrado, qual é a acurácia do modelo?\n",
        "\n",
        "- Aproximadamente, 0,99.\n",
        "\n",
        "- Aproximadamente, 0,63.\n",
        "\n",
        "- Aproximadamente, 0,70.\n",
        "\n",
        "- Aproximadamente, 0,87."
      ]
    },
    {
      "cell_type": "code",
      "metadata": {
        "id": "EaBpj7sFv2z6",
        "colab_type": "code",
        "colab": {}
      },
      "source": [
        "factors = ['cylinders' ,'cubicinches' ,'hp' ,'weightlbs','time-to-60']\n",
        "X = pd.DataFrame(normaliza[factors].copy())\n",
        "y = normaliza['mpg'].copy()"
      ],
      "execution_count": 46,
      "outputs": []
    },
    {
      "cell_type": "code",
      "metadata": {
        "id": "zNMFKSCJwe_G",
        "colab_type": "code",
        "colab": {}
      },
      "source": [
        "X = StandardScaler().fit_transform(X)"
      ],
      "execution_count": 47,
      "outputs": []
    },
    {
      "cell_type": "code",
      "metadata": {
        "id": "jG9p_odmwkvd",
        "colab_type": "code",
        "colab": {
          "base_uri": "https://localhost:8080/",
          "height": 34
        },
        "outputId": "4f829c84-564f-4e7c-ea7f-b150d70406c6"
      },
      "source": [
        "X_train,X_test,y_train,y_test = train_test_split(X, y, test_size=0.30, random_state=42)\n",
        "X_train.shape[0] == y_train.shape[0]"
      ],
      "execution_count": 48,
      "outputs": [
        {
          "output_type": "execute_result",
          "data": {
            "text/plain": [
              "True"
            ]
          },
          "metadata": {
            "tags": []
          },
          "execution_count": 48
        }
      ]
    },
    {
      "cell_type": "code",
      "metadata": {
        "id": "jrby0lHWo0v_",
        "colab_type": "code",
        "colab": {}
      },
      "source": [
        "# Training on the existing dataset\n",
        "clf_dtc = DecisionTreeClassifier(random_state=42)\n",
        "clf_dtc.fit(X_train, y_train)"
      ],
      "execution_count": null,
      "outputs": []
    },
    {
      "cell_type": "code",
      "metadata": {
        "id": "vAxgv6nYo6CO",
        "colab_type": "code",
        "colab": {}
      },
      "source": [
        "# Evaluating the model\n",
        "y_pred = clf_dtc.predict(X_test)"
      ],
      "execution_count": null,
      "outputs": []
    },
    {
      "cell_type": "code",
      "metadata": {
        "id": "65xPxDC9Cp49",
        "colab_type": "code",
        "colab": {}
      },
      "source": [
        "print(cross_val_score(clf_dtc, X_train, y_train, cv=3))"
      ],
      "execution_count": null,
      "outputs": []
    },
    {
      "cell_type": "markdown",
      "metadata": {
        "id": "io7-l_5TBSaG",
        "colab_type": "text"
      },
      "source": [
        "#### Pergunta 14\n",
        "Sobre a matriz de confusão obtida após a aplicação da árvore de decisão, como mostrado anteriormente, é INCORRETO afirmar:\n",
        "\n",
        "- Os falso-positivos correspondem a instâncias em que o algoritmo considerou a previsão como verdadeira e, na realidade, ela era falsa.\n",
        "\n",
        "- Existem duas vezes mais veículos considerados não eficientes que instâncias de veículos eficientes.\n",
        "\n",
        "- A matriz de confusão se constitui em uma estratégia ainda mais importante quando um dataset não está balanceado.\n",
        "\n",
        "- A diagonal principal da matriz mostra que as instâncias em que as previsões foram corretas."
      ]
    },
    {
      "cell_type": "code",
      "metadata": {
        "id": "LMiP39I0nW82",
        "colab_type": "code",
        "colab": {}
      },
      "source": [
        "# Training on the existing dataset\n",
        "clf_lr = LogisticRegression(random_state=42)\n",
        "clf_lr.fit(X_train, y_train)"
      ],
      "execution_count": null,
      "outputs": []
    },
    {
      "cell_type": "code",
      "metadata": {
        "id": "nb59JXepF7gs",
        "colab_type": "code",
        "colab": {}
      },
      "source": [
        "# Evaluating the model\n",
        "y_pred = clf_lr.predict(X_test)"
      ],
      "execution_count": null,
      "outputs": []
    },
    {
      "cell_type": "code",
      "metadata": {
        "id": "WbmP58iIqhbj",
        "colab_type": "code",
        "colab": {}
      },
      "source": [
        "print(cross_val_score(clf_lr, X_train, y_train, cv=3))"
      ],
      "execution_count": null,
      "outputs": []
    },
    {
      "cell_type": "markdown",
      "metadata": {
        "id": "wq4AmFniBTcF",
        "colab_type": "text"
      },
      "source": [
        "#### Pergunta 15\n",
        "Utilizando a mesma divisão de dados entre treinamento e teste empregada para a análise anterior, aplique o modelo de regressão logística como mostrado na descrição do trabalho. Comparando os resultados obtidos com o modelo de árvore de decisão, é INCORRETO afirmar:\n",
        "\n",
        "- Como os dois modelos obtiveram um resultado superior a 80% de acurácia, a escolha sobre qual utilizar deve e pode ser feita a partir de outros critérios, como a complexidade do modelo.\n",
        "\n",
        "- A árvore de decisão e a regressão logística podem ser utilizadas para previsão em regressões.\n",
        "\n",
        "- A regressão logística não deveria ser aplicada ao problema, pois ela trabalha apenas com dados categóricos.\n",
        "\n",
        "- A acurácia de ambos os modelos foi superior a 80%."
      ]
    },
    {
      "cell_type": "code",
      "metadata": {
        "id": "tj3OeB7Sq-2u",
        "colab_type": "code",
        "colab": {}
      },
      "source": [
        "from sklearn.metrics import accuracy_score, precision_score, f1_score, recall_score, hamming_loss, zero_one_loss\n",
        "\n",
        "print('Acurácia        : ',accuracy_score(y_test, y_pred))\n",
        "print('Precisão        : ',precision_score(y_test, y_pred, average='micro')) \n",
        "print('F1-Score        : ',f1_score(y_test, y_pred, average='micro'))     \n",
        "print('Recall          : ',recall_score(y_test, y_pred, average='micro')) \n",
        "print('Perda de Hamming: ',hamming_loss(y_test, y_pred))\n",
        "print('Perda 0-1       : ', zero_one_loss(y_test, y_pred))"
      ],
      "execution_count": null,
      "outputs": []
    }
  ]
}