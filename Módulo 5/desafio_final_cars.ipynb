{
  "nbformat": 4,
  "nbformat_minor": 0,
  "metadata": {
    "colab": {
      "name": "desafio_final_cars.ipynb",
      "provenance": [],
      "collapsed_sections": []
    },
    "kernelspec": {
      "name": "python3",
      "display_name": "Python 3"
    }
  },
  "cells": [
    {
      "cell_type": "markdown",
      "metadata": {
        "id": "N3_ugmhLc0s2",
        "colab_type": "text"
      },
      "source": [
        "## Desafio Final - Módulo 5 - Machine Learning\n",
        "##### **Com respotas do questionário**"
      ]
    },
    {
      "cell_type": "markdown",
      "metadata": {
        "id": "xbwJWsiNMY9b",
        "colab_type": "text"
      },
      "source": [
        "## Objetivo:\n",
        "Exercitar os seguintes conceitos trabalhados no Módulo:\n",
        "- Pré-processamento dos dados.\n",
        "- Detecção de anomalias.\n",
        "- Processamento dos dados.\n",
        "- Correlações.\n",
        "- Redução da dimensionalidade.\n",
        "- Algoritmos supervisionados e não supervisionados"
      ]
    },
    {
      "cell_type": "markdown",
      "metadata": {
        "id": "Fwj3Bnu2dXRK",
        "colab_type": "text"
      },
      "source": [
        "**Cars Data Set**<br>\n",
        "Enunciado\n",
        "\n",
        "Para todo engenheiro de Machine Learning é fundamental que todos os sete passos para construção de uma solução sejam seguidos. Nesse sentido, saber percorrer todas essas etapas e, ao final, identificar a melhor estratégia, é papel primordial para esse profissional.\n",
        "Neste desafio final vamos empregar boa parte dos conceitos mostrados no decorrer de todos os módulos do bootcamp para a análise e classificação de veículos, do conhecido dataset “cars”. Esse dataset contém um conjunto de informações sobre vários veículos pesquisados. Existem dados, por exemplo, sobre a potência do veículo, sobre a origem e cilindradas cúbicas.\n",
        "Para essa análise vamos empregar os conceitos de redução da dimensionalidade com o PCA, clusterização com o K-Means e classificações com algoritmos supervisionados."
      ]
    },
    {
      "cell_type": "markdown",
      "metadata": {
        "id": "ErCzLPqseEoQ",
        "colab_type": "text"
      },
      "source": [
        "Attribute Information:\n",
        "\n",
        "Dataset has 8 parameters, check description of each parameter below:\n",
        "\n",
        "1. mpg - Miles Per Gallon in common words it represents the fuel per mile or we say mileage. usually lesser power vechicle have more mileage compare to higher ones.\n",
        "\n",
        "2. cylinders - Cylinders is internal part of engine which give the accelaration power , more the number of cylinders, more capacity to go faster.\n",
        "\n",
        "3. cubicinches - Displacement is the size of the engine internally, measured in cubic inches (on American engines anwyay), and in CC's (cubic centemeters) on small import engines, or in liters on larger import engines. A 350 engine means it \"displaces\" 350 cubic inches of \"area\" internally that can be filled with fuel and air.\n",
        "\n",
        "4. hp - horsepower commonly used term it specify the engine capacity. it is also called torque which means power needed to move your vechicle from 1 place to other.\n",
        "\n",
        "5. weightlbs - It represents weight of a car.\n",
        "\n",
        "6. time-to-60 - This parameter tells that how much second a car take to reach 60 miles or 100 km/hr speed.\n",
        "\n",
        "7. year - Which year car has been launched.\n",
        "\n",
        "8. brand - Barnd represent the owner country, which has designed this car in ours (US, Europe and Japan )\n",
        "\n"
      ]
    },
    {
      "cell_type": "markdown",
      "metadata": {
        "id": "wuOsm-31_093",
        "colab_type": "text"
      },
      "source": [
        "#### Para a implementação dos algoritmos, utilize as definições abaixo:\n",
        "- normaliza = StandardScaler() #objeto para a normalização \n",
        "- pca = PCA(n_components=7) \n",
        "- KMeans(n_clusters=3,random_state=42) \n",
        "- train_test_split(entradas_arvore, saidas_arvore, test_size=0.30,random_state=42) \n",
        "- DecisionTreeClassifier(random_state=42) \n",
        "- LogisticRegression(random_state=42)"
      ]
    },
    {
      "cell_type": "markdown",
      "metadata": {
        "id": "YjqVWIWEfQeg",
        "colab_type": "text"
      },
      "source": [
        "## EDA"
      ]
    },
    {
      "cell_type": "code",
      "metadata": {
        "id": "XkAa6kElhAz9",
        "colab_type": "code",
        "colab": {}
      },
      "source": [
        "# importando as bibliotecas\n",
        "\n",
        "import warnings\n",
        "warnings.filterwarnings(\"ignore\")\n",
        "\n",
        "import matplotlib.pyplot as plt\n",
        "import numpy as np \n",
        "import pandas as pd \n",
        "import seaborn as sns\n",
        " \n",
        "from sklearn.cluster import KMeans\n",
        "from sklearn.decomposition import PCA\n",
        "from sklearn.linear_model import LogisticRegression\n",
        "from sklearn.model_selection import train_test_split\n",
        "from sklearn.preprocessing import StandardScaler\n",
        "from sklearn.tree import DecisionTreeClassifier\n",
        "\n",
        "from sklearn.metrics import classification_report\n",
        "from sklearn.metrics import confusion_matrix"
      ],
      "execution_count": null,
      "outputs": []
    },
    {
      "cell_type": "code",
      "metadata": {
        "id": "xfdf1y6LGJbI",
        "colab_type": "code",
        "colab": {}
      },
      "source": [
        "# Importando o dataset\n",
        "df = pd.read_csv('cars.csv')"
      ],
      "execution_count": null,
      "outputs": []
    },
    {
      "cell_type": "code",
      "metadata": {
        "id": "ojNKlYWSPt3p",
        "colab_type": "code",
        "colab": {
          "base_uri": "https://localhost:8080/",
          "height": 35
        },
        "outputId": "7b5f2550-2efa-4876-a8b9-3d078668679e"
      },
      "source": [
        "# mostrando as dimensões do dataset em linhas e colunas\n",
        "instancias,atributos = df.shape\n",
        "f'O dataset possue {instancias} instâncias e {atributos} atributos'"
      ],
      "execution_count": null,
      "outputs": [
        {
          "output_type": "execute_result",
          "data": {
            "application/vnd.google.colaboratory.intrinsic+json": {
              "type": "string"
            },
            "text/plain": [
              "'O dataset possue 261 instâncias e 8 atributos'"
            ]
          },
          "metadata": {
            "tags": []
          },
          "execution_count": 3
        }
      ]
    },
    {
      "cell_type": "code",
      "metadata": {
        "id": "_Nyys82-EmE9",
        "colab_type": "code",
        "colab": {
          "base_uri": "https://localhost:8080/",
          "height": 68
        },
        "outputId": "c9aacf4f-813b-44d8-8dea-f437ef15f5ad"
      },
      "source": [
        "# Todas as colunas\n",
        "df.columns"
      ],
      "execution_count": null,
      "outputs": [
        {
          "output_type": "execute_result",
          "data": {
            "text/plain": [
              "Index(['mpg', 'cylinders', 'cubicinches', 'hp', 'weightlbs', 'time-to-60',\n",
              "       'year', 'brand'],\n",
              "      dtype='object')"
            ]
          },
          "metadata": {
            "tags": []
          },
          "execution_count": 4
        }
      ]
    },
    {
      "cell_type": "code",
      "metadata": {
        "id": "SJGSbYgjEtPC",
        "colab_type": "code",
        "colab": {
          "base_uri": "https://localhost:8080/",
          "height": 204
        },
        "outputId": "6c91b17b-432d-44d5-eb98-9adf667d4fc5"
      },
      "source": [
        "# Primeiras linhas do dataset\n",
        "df.head()"
      ],
      "execution_count": null,
      "outputs": [
        {
          "output_type": "execute_result",
          "data": {
            "text/html": [
              "<div>\n",
              "<style scoped>\n",
              "    .dataframe tbody tr th:only-of-type {\n",
              "        vertical-align: middle;\n",
              "    }\n",
              "\n",
              "    .dataframe tbody tr th {\n",
              "        vertical-align: top;\n",
              "    }\n",
              "\n",
              "    .dataframe thead th {\n",
              "        text-align: right;\n",
              "    }\n",
              "</style>\n",
              "<table border=\"1\" class=\"dataframe\">\n",
              "  <thead>\n",
              "    <tr style=\"text-align: right;\">\n",
              "      <th></th>\n",
              "      <th>mpg</th>\n",
              "      <th>cylinders</th>\n",
              "      <th>cubicinches</th>\n",
              "      <th>hp</th>\n",
              "      <th>weightlbs</th>\n",
              "      <th>time-to-60</th>\n",
              "      <th>year</th>\n",
              "      <th>brand</th>\n",
              "    </tr>\n",
              "  </thead>\n",
              "  <tbody>\n",
              "    <tr>\n",
              "      <th>0</th>\n",
              "      <td>14.0</td>\n",
              "      <td>8</td>\n",
              "      <td>350</td>\n",
              "      <td>165</td>\n",
              "      <td>4209</td>\n",
              "      <td>12</td>\n",
              "      <td>1972</td>\n",
              "      <td>US.</td>\n",
              "    </tr>\n",
              "    <tr>\n",
              "      <th>1</th>\n",
              "      <td>31.9</td>\n",
              "      <td>4</td>\n",
              "      <td>89</td>\n",
              "      <td>71</td>\n",
              "      <td>1925</td>\n",
              "      <td>14</td>\n",
              "      <td>1980</td>\n",
              "      <td>Europe.</td>\n",
              "    </tr>\n",
              "    <tr>\n",
              "      <th>2</th>\n",
              "      <td>17.0</td>\n",
              "      <td>8</td>\n",
              "      <td>302</td>\n",
              "      <td>140</td>\n",
              "      <td>3449</td>\n",
              "      <td>11</td>\n",
              "      <td>1971</td>\n",
              "      <td>US.</td>\n",
              "    </tr>\n",
              "    <tr>\n",
              "      <th>3</th>\n",
              "      <td>15.0</td>\n",
              "      <td>8</td>\n",
              "      <td>400</td>\n",
              "      <td>150</td>\n",
              "      <td>3761</td>\n",
              "      <td>10</td>\n",
              "      <td>1971</td>\n",
              "      <td>US.</td>\n",
              "    </tr>\n",
              "    <tr>\n",
              "      <th>4</th>\n",
              "      <td>30.5</td>\n",
              "      <td>4</td>\n",
              "      <td>98</td>\n",
              "      <td>63</td>\n",
              "      <td>2051</td>\n",
              "      <td>17</td>\n",
              "      <td>1978</td>\n",
              "      <td>US.</td>\n",
              "    </tr>\n",
              "  </tbody>\n",
              "</table>\n",
              "</div>"
            ],
            "text/plain": [
              "    mpg  cylinders cubicinches   hp weightlbs  time-to-60  year     brand\n",
              "0  14.0          8         350  165      4209          12  1972       US.\n",
              "1  31.9          4          89   71      1925          14  1980   Europe.\n",
              "2  17.0          8         302  140      3449          11  1971       US.\n",
              "3  15.0          8         400  150      3761          10  1971       US.\n",
              "4  30.5          4          98   63      2051          17  1978       US."
            ]
          },
          "metadata": {
            "tags": []
          },
          "execution_count": 5
        }
      ]
    },
    {
      "cell_type": "code",
      "metadata": {
        "id": "QFzhIt5BP28h",
        "colab_type": "code",
        "colab": {
          "base_uri": "https://localhost:8080/",
          "height": 272
        },
        "outputId": "03b9bd70-dcc6-420a-fc00-d79e135b77ed"
      },
      "source": [
        "# mostrando as \"características\" das colunas\n",
        "df.info()"
      ],
      "execution_count": null,
      "outputs": [
        {
          "output_type": "stream",
          "text": [
            "<class 'pandas.core.frame.DataFrame'>\n",
            "RangeIndex: 261 entries, 0 to 260\n",
            "Data columns (total 8 columns):\n",
            " #   Column       Non-Null Count  Dtype  \n",
            "---  ------       --------------  -----  \n",
            " 0   mpg          261 non-null    float64\n",
            " 1   cylinders    261 non-null    int64  \n",
            " 2   cubicinches  261 non-null    object \n",
            " 3   hp           261 non-null    int64  \n",
            " 4   weightlbs    261 non-null    object \n",
            " 5   time-to-60   261 non-null    int64  \n",
            " 6   year         261 non-null    int64  \n",
            " 7   brand        261 non-null    object \n",
            "dtypes: float64(1), int64(4), object(3)\n",
            "memory usage: 16.4+ KB\n"
          ],
          "name": "stdout"
        }
      ]
    },
    {
      "cell_type": "code",
      "metadata": {
        "id": "t0UsglOSgnVe",
        "colab_type": "code",
        "colab": {
          "base_uri": "https://localhost:8080/",
          "height": 35
        },
        "outputId": "bb94bb59-cc2f-4d71-e613-cb12bc91c2ff"
      },
      "source": [
        "f'{df.dtypes.value_counts()[0]} atributos do tipo {df.dtypes.value_counts().index[0]}, \\\n",
        "{df.dtypes.value_counts()[1]} atributos do tipo {df.dtypes.value_counts().index[1]}, \\\n",
        "e {df.dtypes.value_counts()[2]} atributos do tipo {df.dtypes.value_counts().index[2]}'"
      ],
      "execution_count": null,
      "outputs": [
        {
          "output_type": "execute_result",
          "data": {
            "application/vnd.google.colaboratory.intrinsic+json": {
              "type": "string"
            },
            "text/plain": [
              "'4 atributos do tipo int64, 3 atributos do tipo object, e 1 atributos do tipo float64'"
            ]
          },
          "metadata": {
            "tags": []
          },
          "execution_count": 7
        }
      ]
    },
    {
      "cell_type": "code",
      "metadata": {
        "id": "gcRW_JJmeZyG",
        "colab_type": "code",
        "colab": {
          "base_uri": "https://localhost:8080/",
          "height": 170
        },
        "outputId": "f7f5938e-4567-41b1-8430-47679c78382e"
      },
      "source": [
        "# Contando a quantidade de valores nulos\n",
        "df.isnull().sum()"
      ],
      "execution_count": null,
      "outputs": [
        {
          "output_type": "execute_result",
          "data": {
            "text/plain": [
              "mpg            0\n",
              "cylinders      0\n",
              "cubicinches    0\n",
              "hp             0\n",
              "weightlbs      0\n",
              "time-to-60     0\n",
              "year           0\n",
              "brand          0\n",
              "dtype: int64"
            ]
          },
          "metadata": {
            "tags": []
          },
          "execution_count": 8
        }
      ]
    },
    {
      "cell_type": "code",
      "metadata": {
        "id": "tx64cONJQU7j",
        "colab_type": "code",
        "colab": {
          "base_uri": "https://localhost:8080/",
          "height": 34
        },
        "outputId": "371d4458-b996-4a62-8393-7cecd07858df"
      },
      "source": [
        "df.isnull().sum().sum()"
      ],
      "execution_count": null,
      "outputs": [
        {
          "output_type": "execute_result",
          "data": {
            "text/plain": [
              "0"
            ]
          },
          "metadata": {
            "tags": []
          },
          "execution_count": 9
        }
      ]
    },
    {
      "cell_type": "code",
      "metadata": {
        "id": "yqjGos4sQYfj",
        "colab_type": "code",
        "colab": {
          "base_uri": "https://localhost:8080/",
          "height": 170
        },
        "outputId": "aca3c9ed-d963-41df-d4d2-e50a10ec7a72"
      },
      "source": [
        "# Contando a quantidade de valores NaN\n",
        "df.isna().sum()"
      ],
      "execution_count": null,
      "outputs": [
        {
          "output_type": "execute_result",
          "data": {
            "text/plain": [
              "mpg            0\n",
              "cylinders      0\n",
              "cubicinches    0\n",
              "hp             0\n",
              "weightlbs      0\n",
              "time-to-60     0\n",
              "year           0\n",
              "brand          0\n",
              "dtype: int64"
            ]
          },
          "metadata": {
            "tags": []
          },
          "execution_count": 10
        }
      ]
    },
    {
      "cell_type": "code",
      "metadata": {
        "id": "ILaXqMbZRdPF",
        "colab_type": "code",
        "colab": {
          "base_uri": "https://localhost:8080/",
          "height": 297
        },
        "outputId": "8d2612e5-63d5-4eb7-a552-5cc1b4e6670b"
      },
      "source": [
        "# Resumo estatístico dos dados\n",
        "df.describe()"
      ],
      "execution_count": null,
      "outputs": [
        {
          "output_type": "execute_result",
          "data": {
            "text/html": [
              "<div>\n",
              "<style scoped>\n",
              "    .dataframe tbody tr th:only-of-type {\n",
              "        vertical-align: middle;\n",
              "    }\n",
              "\n",
              "    .dataframe tbody tr th {\n",
              "        vertical-align: top;\n",
              "    }\n",
              "\n",
              "    .dataframe thead th {\n",
              "        text-align: right;\n",
              "    }\n",
              "</style>\n",
              "<table border=\"1\" class=\"dataframe\">\n",
              "  <thead>\n",
              "    <tr style=\"text-align: right;\">\n",
              "      <th></th>\n",
              "      <th>mpg</th>\n",
              "      <th>cylinders</th>\n",
              "      <th>hp</th>\n",
              "      <th>time-to-60</th>\n",
              "      <th>year</th>\n",
              "    </tr>\n",
              "  </thead>\n",
              "  <tbody>\n",
              "    <tr>\n",
              "      <th>count</th>\n",
              "      <td>261.000000</td>\n",
              "      <td>261.000000</td>\n",
              "      <td>261.000000</td>\n",
              "      <td>261.000000</td>\n",
              "      <td>261.000000</td>\n",
              "    </tr>\n",
              "    <tr>\n",
              "      <th>mean</th>\n",
              "      <td>23.144828</td>\n",
              "      <td>5.590038</td>\n",
              "      <td>106.360153</td>\n",
              "      <td>15.547893</td>\n",
              "      <td>1976.819923</td>\n",
              "    </tr>\n",
              "    <tr>\n",
              "      <th>std</th>\n",
              "      <td>7.823570</td>\n",
              "      <td>1.733310</td>\n",
              "      <td>40.499959</td>\n",
              "      <td>2.910625</td>\n",
              "      <td>3.637696</td>\n",
              "    </tr>\n",
              "    <tr>\n",
              "      <th>min</th>\n",
              "      <td>10.000000</td>\n",
              "      <td>3.000000</td>\n",
              "      <td>46.000000</td>\n",
              "      <td>8.000000</td>\n",
              "      <td>1971.000000</td>\n",
              "    </tr>\n",
              "    <tr>\n",
              "      <th>25%</th>\n",
              "      <td>16.900000</td>\n",
              "      <td>4.000000</td>\n",
              "      <td>75.000000</td>\n",
              "      <td>14.000000</td>\n",
              "      <td>1974.000000</td>\n",
              "    </tr>\n",
              "    <tr>\n",
              "      <th>50%</th>\n",
              "      <td>22.000000</td>\n",
              "      <td>6.000000</td>\n",
              "      <td>95.000000</td>\n",
              "      <td>16.000000</td>\n",
              "      <td>1977.000000</td>\n",
              "    </tr>\n",
              "    <tr>\n",
              "      <th>75%</th>\n",
              "      <td>28.800000</td>\n",
              "      <td>8.000000</td>\n",
              "      <td>138.000000</td>\n",
              "      <td>17.000000</td>\n",
              "      <td>1980.000000</td>\n",
              "    </tr>\n",
              "    <tr>\n",
              "      <th>max</th>\n",
              "      <td>46.600000</td>\n",
              "      <td>8.000000</td>\n",
              "      <td>230.000000</td>\n",
              "      <td>25.000000</td>\n",
              "      <td>1983.000000</td>\n",
              "    </tr>\n",
              "  </tbody>\n",
              "</table>\n",
              "</div>"
            ],
            "text/plain": [
              "              mpg   cylinders          hp  time-to-60         year\n",
              "count  261.000000  261.000000  261.000000  261.000000   261.000000\n",
              "mean    23.144828    5.590038  106.360153   15.547893  1976.819923\n",
              "std      7.823570    1.733310   40.499959    2.910625     3.637696\n",
              "min     10.000000    3.000000   46.000000    8.000000  1971.000000\n",
              "25%     16.900000    4.000000   75.000000   14.000000  1974.000000\n",
              "50%     22.000000    6.000000   95.000000   16.000000  1977.000000\n",
              "75%     28.800000    8.000000  138.000000   17.000000  1980.000000\n",
              "max     46.600000    8.000000  230.000000   25.000000  1983.000000"
            ]
          },
          "metadata": {
            "tags": []
          },
          "execution_count": 11
        }
      ]
    },
    {
      "cell_type": "code",
      "metadata": {
        "id": "CnDisa8YPuKB",
        "colab_type": "code",
        "colab": {
          "base_uri": "https://localhost:8080/",
          "height": 170
        },
        "outputId": "170890f8-ce5d-437f-ab07-fe6943f24784"
      },
      "source": [
        "# Todos os tipos de dados do dataframe\n",
        "print(df.dtypes)"
      ],
      "execution_count": null,
      "outputs": [
        {
          "output_type": "stream",
          "text": [
            "mpg            float64\n",
            "cylinders        int64\n",
            "cubicinches     object\n",
            "hp               int64\n",
            "weightlbs       object\n",
            "time-to-60       int64\n",
            "year             int64\n",
            "brand           object\n",
            "dtype: object\n"
          ],
          "name": "stdout"
        }
      ]
    },
    {
      "cell_type": "code",
      "metadata": {
        "id": "JWPpqH8U30Y-",
        "colab_type": "code",
        "colab": {
          "base_uri": "https://localhost:8080/",
          "height": 476
        },
        "outputId": "f773732b-67a3-41f9-abea-57c7ceeda939"
      },
      "source": [
        "df['cubicinches'].values"
      ],
      "execution_count": null,
      "outputs": [
        {
          "output_type": "execute_result",
          "data": {
            "text/plain": [
              "array(['350', '89', '302', '400', '98', '350', '351', '440', '183', '89',\n",
              "       '108', '97', '302', '350', '225', '350', '85', '304', '113', '107',\n",
              "       '86', '121', '200', '351', '89', '91', '71', '351', '250', '98',\n",
              "       '97', '250', '120', '199', '97', '231', '97', '80', '351', '232',\n",
              "       ' ', '302', '250', '250', '455', '120', '318', '122', '97', '200',\n",
              "       '400', '141', '340', '116', '350', '400', '156', '98', '90', '360',\n",
              "       '232', '108', '168', '86', '318', '250', '97', '91', '97', '305',\n",
              "       '198', '112', '97', '119', '98', '262', '232', '134', '98', '108',\n",
              "       '400', '429', '305', '115', '116', '72', '199', '225', '90', '119',\n",
              "       '86', '119', '350', '250', '98', '231', '350', '250', '318', '250',\n",
              "       '400', '400', '98', '105', '108', '151', '90', '88', '121', '307',\n",
              "       '97', '121', '351', '91', '91', '225', '151', '231', '98', '429',\n",
              "       '101', '79', '400', '156', '97', '140', '360', '105', '114', '98',\n",
              "       '97', '151', '455', '304', '350', '318', '91', '302', '121', '120',\n",
              "       '173', '97', '144', '81', '267', '120', '225', '151', '350', '302',\n",
              "       '120', '134', '455', '250', '107', '250', '70', '98', '232', '163',\n",
              "       '151', '318', '171', '198', '97', '260', '225', '156', '156',\n",
              "       '105', '107', '131', '68', '112', '122', '96', '400', '304', '302',\n",
              "       '98', ' ', '97', '305', '318', '112', '200', '250', '318', '351',\n",
              "       '440', '156', '151', '400', '350', '318', '98', '135', '90', '90',\n",
              "       '85', '116', '140', '260', '225', '140', '390', '85', '250', '307',\n",
              "       '168', '146', '231', '79', '79', '225', '119', '85', '351', '173',\n",
              "       '302', '258', '121', '318', '168', '302', '83', '360', '76', '200',\n",
              "       '140', '383', '120', '140', '318', '130', '97', '318', '200', '86',\n",
              "       '122', '350', '225', '400', '110', '454', '318', '318', '90', '97',\n",
              "       '135', '98', '121', '121', '350', '173', '113', '305', '91', '232',\n",
              "       '232', '250'], dtype=object)"
            ]
          },
          "metadata": {
            "tags": []
          },
          "execution_count": 13
        }
      ]
    },
    {
      "cell_type": "code",
      "metadata": {
        "id": "zYG5kf8xQNHU",
        "colab_type": "code",
        "colab": {
          "base_uri": "https://localhost:8080/",
          "height": 578
        },
        "outputId": "e39a79fb-df63-4ca0-a4fb-55100ddded9b"
      },
      "source": [
        "df['weightlbs'].values"
      ],
      "execution_count": null,
      "outputs": [
        {
          "output_type": "execute_result",
          "data": {
            "text/plain": [
              "array(['4209', '1925', '3449', '3761', '2051', '3900', '4363', '4312',\n",
              "       '3530', '2050', '2245', '2188', '4141', '3664', ' ', '4360',\n",
              "       '2020', '3433', '2278', '2430', '2019', '2600', '3012', '4054',\n",
              "       '1968', '1795', '1773', '4657', '3574', '2380', '2130', '3278',\n",
              "       '2506', ' ', '1985', '3415', '1835', '2720', '3955', '3265',\n",
              "       '3897', '4638', '3645', '3520', '3086', '2635', '3755', '2395',\n",
              "       '1940', '3060', '4464', '3190', '3609', '2158', '4380', '4278',\n",
              "       '2930', '2075', '1937', '3821', '2945', '2379', '2910', '2110',\n",
              "       '4237', '3525', '1950', '1965', '1825', '3880', '3102', '2640',\n",
              "       '2288', '2545', '2219', '3015', '3085', '2515', '2265', '2350',\n",
              "       '4325', '4952', '3425', '2694', '2220', '1613', '2774', '3465',\n",
              "       '2125', '2720', '1975', '2300', '4100', '3329', '2255', '3907',\n",
              "       '4499', '3139', '3830', '3781', '4997', '4906', '2126', '2200',\n",
              "       '2265', '2635', '2335', '2065', '2671', '3504', '2279', '2933',\n",
              "       '4335', '1795', '2130', '3785', '2740', '3039', '2045', '4341',\n",
              "       '2202', '1963', '4668', '2745', '1834', '2565', '4654', '2230',\n",
              "       '2582', '1800', '2300', '2678', '4951', '3672', '4440', '4190',\n",
              "       '1955', '3169', '2945', '2979', '2700', '2171', '2665', '1760',\n",
              "       '3605', '2957', '3360', '2735', '3693', '3205', '2542', '2560',\n",
              "       '4425', '3158', '2464', '3302', '2124', '2135', '2634', '3410',\n",
              "       '3003', '4080', '2984', '2904', '2254', '3365', '3439', '2585',\n",
              "       '2807', '2125', '2290', '2830', ' ', '2575', '2226', '2189',\n",
              "       '4385', '3672', '3570', '2045', '2990', '2145', '4215', '3436',\n",
              "       '2395', '3070', '3459', '3940', '4129', '4735', '2620', '2670',\n",
              "       '4422', '4082', '4077', '2144', '2490', '1985', '1937', '1945',\n",
              "       '2246', '2639', '3420', '3630', '2401', '3850', '2110', '3021',\n",
              "       '4098', '2900', '2815', '3445', '1755', '2074', '3233', '2615',\n",
              "       '1975', '4215', '2595', '4295', '3193', '2795', '4457', '3820',\n",
              "       '4042', '2003', '4615', '1649', '2587', '2790', '3563', '2625',\n",
              "       '2592', '4498', '3150', '2130', '4096', '2965', '1875', '2220',\n",
              "       '4055', '3121', '4220', '2672', '4354', '3399', '3735', '2085',\n",
              "       '2155', '2525', '2120', '2660', '2950', '3988', '2725', '2372',\n",
              "       '3840', '1800', '2835', '3288', '3353'], dtype=object)"
            ]
          },
          "metadata": {
            "tags": []
          },
          "execution_count": 14
        }
      ]
    },
    {
      "cell_type": "code",
      "metadata": {
        "id": "tAkacLNnenup",
        "colab_type": "code",
        "colab": {
          "base_uri": "https://localhost:8080/",
          "height": 34
        },
        "outputId": "300e7c37-be5d-4357-f964-d7d4ca83287a"
      },
      "source": [
        "# Contando quantas brand diferentes existem no df (ou seja a quantidade de variáveis categoricas)\n",
        "df['brand'].unique()"
      ],
      "execution_count": null,
      "outputs": [
        {
          "output_type": "execute_result",
          "data": {
            "text/plain": [
              "array([' US.', ' Europe.', ' Japan.'], dtype=object)"
            ]
          },
          "metadata": {
            "tags": []
          },
          "execution_count": 15
        }
      ]
    },
    {
      "cell_type": "code",
      "metadata": {
        "id": "a8M_SGNVQviC",
        "colab_type": "code",
        "colab": {
          "base_uri": "https://localhost:8080/",
          "height": 85
        },
        "outputId": "77a3054f-dbbb-49dc-fc42-fa524d013288"
      },
      "source": [
        "df['brand'].value_counts()"
      ],
      "execution_count": null,
      "outputs": [
        {
          "output_type": "execute_result",
          "data": {
            "text/plain": [
              " US.        162\n",
              " Japan.      51\n",
              " Europe.     48\n",
              "Name: brand, dtype: int64"
            ]
          },
          "metadata": {
            "tags": []
          },
          "execution_count": 16
        }
      ]
    },
    {
      "cell_type": "code",
      "metadata": {
        "id": "i0bsfSK4ZsBN",
        "colab_type": "code",
        "colab": {
          "base_uri": "https://localhost:8080/",
          "height": 296
        },
        "outputId": "5e6f5b6a-9b67-4faf-8317-d35b8fb48efd"
      },
      "source": [
        "# Gráfico mostra os valores únicos da classe para a coluna brand\n",
        "sns.countplot(df['brand'])"
      ],
      "execution_count": null,
      "outputs": [
        {
          "output_type": "execute_result",
          "data": {
            "text/plain": [
              "<matplotlib.axes._subplots.AxesSubplot at 0x7f9349031c88>"
            ]
          },
          "metadata": {
            "tags": []
          },
          "execution_count": 17
        },
        {
          "output_type": "display_data",
          "data": {
            "image/png": "[encoded data removed]",
            "text/plain": [
              "<Figure size 432x288 with 1 Axes>"
            ]
          },
          "metadata": {
            "tags": [],
            "needs_background": "light"
          }
        }
      ]
    },
    {
      "cell_type": "markdown",
      "metadata": {
        "id": "fDkB8JxDbkax",
        "colab_type": "text"
      },
      "source": [
        "Como mostra o gráfico acima ele é bem desbalanceado, sendo os carros como maior número desenvolvidos em US."
      ]
    },
    {
      "cell_type": "markdown",
      "metadata": {
        "id": "8GkD_ZVGn5_U",
        "colab_type": "text"
      },
      "source": [
        "## Questionário"
      ]
    },
    {
      "cell_type": "markdown",
      "metadata": {
        "id": "t0TZOhmxm9Sl",
        "colab_type": "text"
      },
      "source": [
        "#### Pergunta 1\n",
        "Após a utilização da biblioteca pandas para a leitura dos dados sobre os valores lidos, é CORRETO afirmar:\n",
        "\n",
        "- Os valores nulos estão presentes apenas para a saída dos dados.\n",
        "\n",
        "- Existem apenas duas características do tipo “string”.\n",
        "\n",
        "- ***Não foram encontrados valores nulos após a leitura dos dados.***\n",
        "\n",
        "- Os valores nulos encontrados estão presentes apenas no variável “cubicinches”."
      ]
    },
    {
      "cell_type": "markdown",
      "metadata": {
        "id": "PaynEisWA-1R",
        "colab_type": "text"
      },
      "source": [
        "#### Pergunta 2\n",
        "Realize a transformação das colunas “cubicinches” e “weightlbs” do tipo “string” para o tipo numérico utilizando o pd.to_numeric(), utilizando o parâmetro errors='coerce'. Após essa transformação é CORRETO afirmar:\n",
        "\n",
        "- Após essa transformação não ocorreu a introdução de valores nulos.\n",
        "\n",
        "- Após a transformação não ocorre mudanças no tipo de variáveis.\n",
        "\n",
        "- ***Essa transformação adiciona valores nulos ao nosso dataset.***\n",
        "\n",
        "- Essa transformação deve ser realizada apenas para valores nulos."
      ]
    },
    {
      "cell_type": "code",
      "metadata": {
        "id": "akcfbJzr_erY",
        "colab_type": "code",
        "colab": {
          "base_uri": "https://localhost:8080/",
          "height": 68
        },
        "outputId": "99f52d80-447e-4579-f0f1-fb2c459d3c5d"
      },
      "source": [
        "cols = ['cubicinches', 'weightlbs']\n",
        "df[cols] = df[cols].apply(pd.to_numeric, errors='coerce', axis=1)\n",
        "df[cols].isnull().sum()"
      ],
      "execution_count": null,
      "outputs": [
        {
          "output_type": "execute_result",
          "data": {
            "text/plain": [
              "cubicinches    2\n",
              "weightlbs      3\n",
              "dtype: int64"
            ]
          },
          "metadata": {
            "tags": []
          },
          "execution_count": 18
        }
      ]
    },
    {
      "cell_type": "markdown",
      "metadata": {
        "id": "ivgutM3FA_Hn",
        "colab_type": "text"
      },
      "source": [
        "#### Pergunta 3\n",
        "Indique quais eram os índices dos valores presentes no dataset que “forçaram” o pandas a compreender a variável “cubicinches” como string.\n",
        "\n",
        "- ***40 e 180.***\n",
        "\n",
        "- 114 e 180.\n",
        "\n",
        "- 38 e 120.\n",
        "\n",
        "- 33 e 172.\n"
      ]
    },
    {
      "cell_type": "code",
      "metadata": {
        "id": "BZ0jmObFCuQ2",
        "colab_type": "code",
        "colab": {
          "base_uri": "https://localhost:8080/",
          "height": 111
        },
        "outputId": "50e59e83-e8f0-436b-8b26-3223aeec3612"
      },
      "source": [
        "col = ['cubicinches']\n",
        "df[col] = df[col].apply(pd.to_numeric, errors='coerce', axis=1)\n",
        "df1 = df[col]\n",
        "df1[df1.cubicinches.isnull()]"
      ],
      "execution_count": null,
      "outputs": [
        {
          "output_type": "execute_result",
          "data": {
            "text/html": [
              "<div>\n",
              "<style scoped>\n",
              "    .dataframe tbody tr th:only-of-type {\n",
              "        vertical-align: middle;\n",
              "    }\n",
              "\n",
              "    .dataframe tbody tr th {\n",
              "        vertical-align: top;\n",
              "    }\n",
              "\n",
              "    .dataframe thead th {\n",
              "        text-align: right;\n",
              "    }\n",
              "</style>\n",
              "<table border=\"1\" class=\"dataframe\">\n",
              "  <thead>\n",
              "    <tr style=\"text-align: right;\">\n",
              "      <th></th>\n",
              "      <th>cubicinches</th>\n",
              "    </tr>\n",
              "  </thead>\n",
              "  <tbody>\n",
              "    <tr>\n",
              "      <th>40</th>\n",
              "      <td>NaN</td>\n",
              "    </tr>\n",
              "    <tr>\n",
              "      <th>180</th>\n",
              "      <td>NaN</td>\n",
              "    </tr>\n",
              "  </tbody>\n",
              "</table>\n",
              "</div>"
            ],
            "text/plain": [
              "     cubicinches\n",
              "40           NaN\n",
              "180          NaN"
            ]
          },
          "metadata": {
            "tags": []
          },
          "execution_count": 19
        }
      ]
    },
    {
      "cell_type": "markdown",
      "metadata": {
        "id": "mJTbvIk_A_Kv",
        "colab_type": "text"
      },
      "source": [
        "#### Pergunta 4\n",
        "Após a transformação das variáveis “string” para os valores numéricos, quantos valores nulos (células no dataframe) passaram a existir no dataset?\n",
        "\n",
        "- 6.\n",
        "\n",
        "- 2.\n",
        "\n",
        "- ***5.***\n",
        "\n",
        "- 3."
      ]
    },
    {
      "cell_type": "markdown",
      "metadata": {
        "id": "Gd9jTjPgA_Nz",
        "colab_type": "text"
      },
      "source": [
        "#### Pergunta 5\n",
        "Substitua os valores nulos introduzidos no dataset, após a transformação, pelo valor médio das colunas. Qual é o novo valor médio da coluna “weightlbs”?\n",
        "\n",
        "- 1370,82.\n",
        "\n",
        "- 1367,13.\n",
        "\n",
        "- ***3009,83.***\n",
        "\n",
        "- 3212,48."
      ]
    },
    {
      "cell_type": "code",
      "metadata": {
        "id": "fJMHLtsGcXkc",
        "colab_type": "code",
        "colab": {
          "base_uri": "https://localhost:8080/",
          "height": 119
        },
        "outputId": "6873290c-04aa-45aa-9612-081e41aa1700"
      },
      "source": [
        "cols = ['weightlbs']\n",
        "df[cols] = df[cols].apply(pd.to_numeric, errors='coerce', axis=1)\n",
        "df4 = df[cols]\n",
        "print(f'mean com nulos: {df4.mean()}')\n",
        "df4.fillna(df4.mean(), inplace=True)\n",
        "print(f'Ainda exitem nulos: {df4.isnull().sum()}')\n",
        "print(f'mean: {df4.mean()}')"
      ],
      "execution_count": null,
      "outputs": [
        {
          "output_type": "stream",
          "text": [
            "mean com nulos: weightlbs    3009.833333\n",
            "dtype: float64\n",
            "Ainda exitem nulos: weightlbs    0\n",
            "dtype: int64\n",
            "mean: weightlbs    3009.833333\n",
            "dtype: float64\n"
          ],
          "name": "stdout"
        }
      ]
    },
    {
      "cell_type": "markdown",
      "metadata": {
        "id": "DrkFWUjFA_Q8",
        "colab_type": "text"
      },
      "source": [
        "#### Pergunta 6\n",
        "Após substituir os valores nulos pela média das colunas, selecione as colunas ['mpg', 'cylinders', 'cubicinches', 'hp', 'weightlbs', 'time-to-60', 'year']. Qual é o valor da mediana para a característica 'mpg'?\n",
        "\n",
        "- ***22,0.***\n",
        "\n",
        "- 26,3.\n",
        "\n",
        "- 14,8.\n",
        "\n",
        "- 31,4."
      ]
    },
    {
      "cell_type": "code",
      "metadata": {
        "id": "oTP92T_ZhODR",
        "colab_type": "code",
        "colab": {
          "base_uri": "https://localhost:8080/",
          "height": 68
        },
        "outputId": "b93c7dd2-8f37-4eb5-a224-10b51a2c0e6f"
      },
      "source": [
        "cols = ['cubicinches', 'weightlbs']\n",
        "df[cols] = df[cols].apply(pd.to_numeric, errors='coerce', axis=1)\n",
        "df6 = df[cols]\n",
        "df6.fillna(df6.mean(), inplace=True)\n",
        "df6.isnull().sum()"
      ],
      "execution_count": null,
      "outputs": [
        {
          "output_type": "execute_result",
          "data": {
            "text/plain": [
              "cubicinches    0\n",
              "weightlbs      0\n",
              "dtype: int64"
            ]
          },
          "metadata": {
            "tags": []
          },
          "execution_count": 21
        }
      ]
    },
    {
      "cell_type": "code",
      "metadata": {
        "id": "MA34mjdYlWIm",
        "colab_type": "code",
        "colab": {
          "base_uri": "https://localhost:8080/",
          "height": 204
        },
        "outputId": "993eed06-0507-4362-e0f6-f8bfe1548a88"
      },
      "source": [
        "df6.head()"
      ],
      "execution_count": null,
      "outputs": [
        {
          "output_type": "execute_result",
          "data": {
            "text/html": [
              "<div>\n",
              "<style scoped>\n",
              "    .dataframe tbody tr th:only-of-type {\n",
              "        vertical-align: middle;\n",
              "    }\n",
              "\n",
              "    .dataframe tbody tr th {\n",
              "        vertical-align: top;\n",
              "    }\n",
              "\n",
              "    .dataframe thead th {\n",
              "        text-align: right;\n",
              "    }\n",
              "</style>\n",
              "<table border=\"1\" class=\"dataframe\">\n",
              "  <thead>\n",
              "    <tr style=\"text-align: right;\">\n",
              "      <th></th>\n",
              "      <th>cubicinches</th>\n",
              "      <th>weightlbs</th>\n",
              "    </tr>\n",
              "  </thead>\n",
              "  <tbody>\n",
              "    <tr>\n",
              "      <th>0</th>\n",
              "      <td>350.0</td>\n",
              "      <td>4209.0</td>\n",
              "    </tr>\n",
              "    <tr>\n",
              "      <th>1</th>\n",
              "      <td>89.0</td>\n",
              "      <td>1925.0</td>\n",
              "    </tr>\n",
              "    <tr>\n",
              "      <th>2</th>\n",
              "      <td>302.0</td>\n",
              "      <td>3449.0</td>\n",
              "    </tr>\n",
              "    <tr>\n",
              "      <th>3</th>\n",
              "      <td>400.0</td>\n",
              "      <td>3761.0</td>\n",
              "    </tr>\n",
              "    <tr>\n",
              "      <th>4</th>\n",
              "      <td>98.0</td>\n",
              "      <td>2051.0</td>\n",
              "    </tr>\n",
              "  </tbody>\n",
              "</table>\n",
              "</div>"
            ],
            "text/plain": [
              "   cubicinches  weightlbs\n",
              "0        350.0     4209.0\n",
              "1         89.0     1925.0\n",
              "2        302.0     3449.0\n",
              "3        400.0     3761.0\n",
              "4         98.0     2051.0"
            ]
          },
          "metadata": {
            "tags": []
          },
          "execution_count": 22
        }
      ]
    },
    {
      "cell_type": "code",
      "metadata": {
        "id": "a4u4apPmjcb3",
        "colab_type": "code",
        "colab": {
          "base_uri": "https://localhost:8080/",
          "height": 204
        },
        "outputId": "6326495f-ebd3-47e0-c58e-227fa565b809"
      },
      "source": [
        "cols_two = ['mpg', 'cylinders','hp', 'time-to-60', 'year']\n",
        "df7 = df[cols_two]\n",
        "df7.head()"
      ],
      "execution_count": null,
      "outputs": [
        {
          "output_type": "execute_result",
          "data": {
            "text/html": [
              "<div>\n",
              "<style scoped>\n",
              "    .dataframe tbody tr th:only-of-type {\n",
              "        vertical-align: middle;\n",
              "    }\n",
              "\n",
              "    .dataframe tbody tr th {\n",
              "        vertical-align: top;\n",
              "    }\n",
              "\n",
              "    .dataframe thead th {\n",
              "        text-align: right;\n",
              "    }\n",
              "</style>\n",
              "<table border=\"1\" class=\"dataframe\">\n",
              "  <thead>\n",
              "    <tr style=\"text-align: right;\">\n",
              "      <th></th>\n",
              "      <th>mpg</th>\n",
              "      <th>cylinders</th>\n",
              "      <th>hp</th>\n",
              "      <th>time-to-60</th>\n",
              "      <th>year</th>\n",
              "    </tr>\n",
              "  </thead>\n",
              "  <tbody>\n",
              "    <tr>\n",
              "      <th>0</th>\n",
              "      <td>14.0</td>\n",
              "      <td>8</td>\n",
              "      <td>165</td>\n",
              "      <td>12</td>\n",
              "      <td>1972</td>\n",
              "    </tr>\n",
              "    <tr>\n",
              "      <th>1</th>\n",
              "      <td>31.9</td>\n",
              "      <td>4</td>\n",
              "      <td>71</td>\n",
              "      <td>14</td>\n",
              "      <td>1980</td>\n",
              "    </tr>\n",
              "    <tr>\n",
              "      <th>2</th>\n",
              "      <td>17.0</td>\n",
              "      <td>8</td>\n",
              "      <td>140</td>\n",
              "      <td>11</td>\n",
              "      <td>1971</td>\n",
              "    </tr>\n",
              "    <tr>\n",
              "      <th>3</th>\n",
              "      <td>15.0</td>\n",
              "      <td>8</td>\n",
              "      <td>150</td>\n",
              "      <td>10</td>\n",
              "      <td>1971</td>\n",
              "    </tr>\n",
              "    <tr>\n",
              "      <th>4</th>\n",
              "      <td>30.5</td>\n",
              "      <td>4</td>\n",
              "      <td>63</td>\n",
              "      <td>17</td>\n",
              "      <td>1978</td>\n",
              "    </tr>\n",
              "  </tbody>\n",
              "</table>\n",
              "</div>"
            ],
            "text/plain": [
              "    mpg  cylinders   hp  time-to-60  year\n",
              "0  14.0          8  165          12  1972\n",
              "1  31.9          4   71          14  1980\n",
              "2  17.0          8  140          11  1971\n",
              "3  15.0          8  150          10  1971\n",
              "4  30.5          4   63          17  1978"
            ]
          },
          "metadata": {
            "tags": []
          },
          "execution_count": 23
        }
      ]
    },
    {
      "cell_type": "code",
      "metadata": {
        "id": "py8LcAF1ldpA",
        "colab_type": "code",
        "colab": {
          "base_uri": "https://localhost:8080/",
          "height": 204
        },
        "outputId": "f974fe62-cef4-4f7f-e157-73ddb46c287c"
      },
      "source": [
        "# Junta as colunas adicionadas as médias com as outras\n",
        "cars_df = pd.concat([df6, df7], axis=1)\n",
        "cars_df.head()"
      ],
      "execution_count": null,
      "outputs": [
        {
          "output_type": "execute_result",
          "data": {
            "text/html": [
              "<div>\n",
              "<style scoped>\n",
              "    .dataframe tbody tr th:only-of-type {\n",
              "        vertical-align: middle;\n",
              "    }\n",
              "\n",
              "    .dataframe tbody tr th {\n",
              "        vertical-align: top;\n",
              "    }\n",
              "\n",
              "    .dataframe thead th {\n",
              "        text-align: right;\n",
              "    }\n",
              "</style>\n",
              "<table border=\"1\" class=\"dataframe\">\n",
              "  <thead>\n",
              "    <tr style=\"text-align: right;\">\n",
              "      <th></th>\n",
              "      <th>cubicinches</th>\n",
              "      <th>weightlbs</th>\n",
              "      <th>mpg</th>\n",
              "      <th>cylinders</th>\n",
              "      <th>hp</th>\n",
              "      <th>time-to-60</th>\n",
              "      <th>year</th>\n",
              "    </tr>\n",
              "  </thead>\n",
              "  <tbody>\n",
              "    <tr>\n",
              "      <th>0</th>\n",
              "      <td>350.0</td>\n",
              "      <td>4209.0</td>\n",
              "      <td>14.0</td>\n",
              "      <td>8</td>\n",
              "      <td>165</td>\n",
              "      <td>12</td>\n",
              "      <td>1972</td>\n",
              "    </tr>\n",
              "    <tr>\n",
              "      <th>1</th>\n",
              "      <td>89.0</td>\n",
              "      <td>1925.0</td>\n",
              "      <td>31.9</td>\n",
              "      <td>4</td>\n",
              "      <td>71</td>\n",
              "      <td>14</td>\n",
              "      <td>1980</td>\n",
              "    </tr>\n",
              "    <tr>\n",
              "      <th>2</th>\n",
              "      <td>302.0</td>\n",
              "      <td>3449.0</td>\n",
              "      <td>17.0</td>\n",
              "      <td>8</td>\n",
              "      <td>140</td>\n",
              "      <td>11</td>\n",
              "      <td>1971</td>\n",
              "    </tr>\n",
              "    <tr>\n",
              "      <th>3</th>\n",
              "      <td>400.0</td>\n",
              "      <td>3761.0</td>\n",
              "      <td>15.0</td>\n",
              "      <td>8</td>\n",
              "      <td>150</td>\n",
              "      <td>10</td>\n",
              "      <td>1971</td>\n",
              "    </tr>\n",
              "    <tr>\n",
              "      <th>4</th>\n",
              "      <td>98.0</td>\n",
              "      <td>2051.0</td>\n",
              "      <td>30.5</td>\n",
              "      <td>4</td>\n",
              "      <td>63</td>\n",
              "      <td>17</td>\n",
              "      <td>1978</td>\n",
              "    </tr>\n",
              "  </tbody>\n",
              "</table>\n",
              "</div>"
            ],
            "text/plain": [
              "   cubicinches  weightlbs   mpg  cylinders   hp  time-to-60  year\n",
              "0        350.0     4209.0  14.0          8  165          12  1972\n",
              "1         89.0     1925.0  31.9          4   71          14  1980\n",
              "2        302.0     3449.0  17.0          8  140          11  1971\n",
              "3        400.0     3761.0  15.0          8  150          10  1971\n",
              "4         98.0     2051.0  30.5          4   63          17  1978"
            ]
          },
          "metadata": {
            "tags": []
          },
          "execution_count": 24
        }
      ]
    },
    {
      "cell_type": "code",
      "metadata": {
        "id": "Bqw3LARlmSpB",
        "colab_type": "code",
        "colab": {
          "base_uri": "https://localhost:8080/",
          "height": 297
        },
        "outputId": "c9d4b7de-7135-4c68-c5ad-d0f10b92fbb8"
      },
      "source": [
        "cars_df.describe()"
      ],
      "execution_count": null,
      "outputs": [
        {
          "output_type": "execute_result",
          "data": {
            "text/html": [
              "<div>\n",
              "<style scoped>\n",
              "    .dataframe tbody tr th:only-of-type {\n",
              "        vertical-align: middle;\n",
              "    }\n",
              "\n",
              "    .dataframe tbody tr th {\n",
              "        vertical-align: top;\n",
              "    }\n",
              "\n",
              "    .dataframe thead th {\n",
              "        text-align: right;\n",
              "    }\n",
              "</style>\n",
              "<table border=\"1\" class=\"dataframe\">\n",
              "  <thead>\n",
              "    <tr style=\"text-align: right;\">\n",
              "      <th></th>\n",
              "      <th>cubicinches</th>\n",
              "      <th>weightlbs</th>\n",
              "      <th>mpg</th>\n",
              "      <th>cylinders</th>\n",
              "      <th>hp</th>\n",
              "      <th>time-to-60</th>\n",
              "      <th>year</th>\n",
              "    </tr>\n",
              "  </thead>\n",
              "  <tbody>\n",
              "    <tr>\n",
              "      <th>count</th>\n",
              "      <td>261.000000</td>\n",
              "      <td>261.000000</td>\n",
              "      <td>261.000000</td>\n",
              "      <td>261.000000</td>\n",
              "      <td>261.000000</td>\n",
              "      <td>261.000000</td>\n",
              "      <td>261.000000</td>\n",
              "    </tr>\n",
              "    <tr>\n",
              "      <th>mean</th>\n",
              "      <td>200.918919</td>\n",
              "      <td>3009.833333</td>\n",
              "      <td>23.144828</td>\n",
              "      <td>5.590038</td>\n",
              "      <td>106.360153</td>\n",
              "      <td>15.547893</td>\n",
              "      <td>1976.819923</td>\n",
              "    </tr>\n",
              "    <tr>\n",
              "      <th>std</th>\n",
              "      <td>108.837269</td>\n",
              "      <td>849.097575</td>\n",
              "      <td>7.823570</td>\n",
              "      <td>1.733310</td>\n",
              "      <td>40.499959</td>\n",
              "      <td>2.910625</td>\n",
              "      <td>3.637696</td>\n",
              "    </tr>\n",
              "    <tr>\n",
              "      <th>min</th>\n",
              "      <td>68.000000</td>\n",
              "      <td>1613.000000</td>\n",
              "      <td>10.000000</td>\n",
              "      <td>3.000000</td>\n",
              "      <td>46.000000</td>\n",
              "      <td>8.000000</td>\n",
              "      <td>1971.000000</td>\n",
              "    </tr>\n",
              "    <tr>\n",
              "      <th>25%</th>\n",
              "      <td>101.000000</td>\n",
              "      <td>2254.000000</td>\n",
              "      <td>16.900000</td>\n",
              "      <td>4.000000</td>\n",
              "      <td>75.000000</td>\n",
              "      <td>14.000000</td>\n",
              "      <td>1974.000000</td>\n",
              "    </tr>\n",
              "    <tr>\n",
              "      <th>50%</th>\n",
              "      <td>156.000000</td>\n",
              "      <td>2904.000000</td>\n",
              "      <td>22.000000</td>\n",
              "      <td>6.000000</td>\n",
              "      <td>95.000000</td>\n",
              "      <td>16.000000</td>\n",
              "      <td>1977.000000</td>\n",
              "    </tr>\n",
              "    <tr>\n",
              "      <th>75%</th>\n",
              "      <td>302.000000</td>\n",
              "      <td>3664.000000</td>\n",
              "      <td>28.800000</td>\n",
              "      <td>8.000000</td>\n",
              "      <td>138.000000</td>\n",
              "      <td>17.000000</td>\n",
              "      <td>1980.000000</td>\n",
              "    </tr>\n",
              "    <tr>\n",
              "      <th>max</th>\n",
              "      <td>455.000000</td>\n",
              "      <td>4997.000000</td>\n",
              "      <td>46.600000</td>\n",
              "      <td>8.000000</td>\n",
              "      <td>230.000000</td>\n",
              "      <td>25.000000</td>\n",
              "      <td>1983.000000</td>\n",
              "    </tr>\n",
              "  </tbody>\n",
              "</table>\n",
              "</div>"
            ],
            "text/plain": [
              "       cubicinches    weightlbs  ...  time-to-60         year\n",
              "count   261.000000   261.000000  ...  261.000000   261.000000\n",
              "mean    200.918919  3009.833333  ...   15.547893  1976.819923\n",
              "std     108.837269   849.097575  ...    2.910625     3.637696\n",
              "min      68.000000  1613.000000  ...    8.000000  1971.000000\n",
              "25%     101.000000  2254.000000  ...   14.000000  1974.000000\n",
              "50%     156.000000  2904.000000  ...   16.000000  1977.000000\n",
              "75%     302.000000  3664.000000  ...   17.000000  1980.000000\n",
              "max     455.000000  4997.000000  ...   25.000000  1983.000000\n",
              "\n",
              "[8 rows x 7 columns]"
            ]
          },
          "metadata": {
            "tags": []
          },
          "execution_count": 25
        }
      ]
    },
    {
      "cell_type": "markdown",
      "metadata": {
        "id": "13u1dgaUA_UN",
        "colab_type": "text"
      },
      "source": [
        "#### Pergunta 7\n",
        "Qual é a afirmação CORRETA sobre o valor de 14,00 para a variável “time-to-60”?\n",
        "\n",
        "- 25% dos valores de “time-to-60” são superiores ou iguais a 14,00.\n",
        "\n",
        "- Apenas por esse valor é possível afirmar que existe uma menor dispersão entre valores inferiores a 14,00.\n",
        "\n",
        "- ***75% dos dados são maiores que o valor de 14,00.***\n",
        "\n",
        "- Como esse valor representa a mediana para essa variável, é possível dizer que 50% dos valores são superiores a 14,00."
      ]
    },
    {
      "cell_type": "code",
      "metadata": {
        "id": "ShID26JWm0_0",
        "colab_type": "code",
        "colab": {
          "base_uri": "https://localhost:8080/",
          "height": 170
        },
        "outputId": "7d3978e2-5799-421d-883b-53770e063db4"
      },
      "source": [
        "time_to = cars_df['time-to-60']\n",
        "time_to.describe()"
      ],
      "execution_count": null,
      "outputs": [
        {
          "output_type": "execute_result",
          "data": {
            "text/plain": [
              "count    261.000000\n",
              "mean      15.547893\n",
              "std        2.910625\n",
              "min        8.000000\n",
              "25%       14.000000\n",
              "50%       16.000000\n",
              "75%       17.000000\n",
              "max       25.000000\n",
              "Name: time-to-60, dtype: float64"
            ]
          },
          "metadata": {
            "tags": []
          },
          "execution_count": 26
        }
      ]
    },
    {
      "cell_type": "markdown",
      "metadata": {
        "id": "oforyiIDA_ZK",
        "colab_type": "text"
      },
      "source": [
        "#### Pergunta 8\n",
        "Sobre o coeficiente de correlação de Pearson entre as variáveis “cylinders” e “mpg”, é correto afirmar, EXCETO:\n",
        "\n",
        "- Mesmo não sendo igual a 1, é possível dizer que à medida que a variável “cylinders” aumenta, a variável “mpg” reduz em uma direção oposta.\n",
        "\n",
        "- Quando um coeficiente de correlação de Pearson é igual a 1, o coeficiente de determinação também será igual a 1.\n",
        "\n",
        "- Caso fosse calculado o coeficiente de determinação entre essas duas variáveis, o valor seria, aproximadamente, 0,6.\n",
        "\n",
        "- ***Mesmo não sendo igual a 1, é possível dizer que à medida que a variável “cylinders” aumenta, a variável “mpg” também aumenta em uma mesma direção.***"
      ]
    },
    {
      "cell_type": "code",
      "metadata": {
        "id": "OpDac0I3qFQV",
        "colab_type": "code",
        "colab": {
          "base_uri": "https://localhost:8080/",
          "height": 111
        },
        "outputId": "75f516ab-d144-4ca0-e085-dc6e0b66f77f"
      },
      "source": [
        "correlation = cars_df[['cylinders', 'mpg']].corr(method='pearson')\n",
        "correlation"
      ],
      "execution_count": null,
      "outputs": [
        {
          "output_type": "execute_result",
          "data": {
            "text/html": [
              "<div>\n",
              "<style scoped>\n",
              "    .dataframe tbody tr th:only-of-type {\n",
              "        vertical-align: middle;\n",
              "    }\n",
              "\n",
              "    .dataframe tbody tr th {\n",
              "        vertical-align: top;\n",
              "    }\n",
              "\n",
              "    .dataframe thead th {\n",
              "        text-align: right;\n",
              "    }\n",
              "</style>\n",
              "<table border=\"1\" class=\"dataframe\">\n",
              "  <thead>\n",
              "    <tr style=\"text-align: right;\">\n",
              "      <th></th>\n",
              "      <th>cylinders</th>\n",
              "      <th>mpg</th>\n",
              "    </tr>\n",
              "  </thead>\n",
              "  <tbody>\n",
              "    <tr>\n",
              "      <th>cylinders</th>\n",
              "      <td>1.00000</td>\n",
              "      <td>-0.77671</td>\n",
              "    </tr>\n",
              "    <tr>\n",
              "      <th>mpg</th>\n",
              "      <td>-0.77671</td>\n",
              "      <td>1.00000</td>\n",
              "    </tr>\n",
              "  </tbody>\n",
              "</table>\n",
              "</div>"
            ],
            "text/plain": [
              "           cylinders      mpg\n",
              "cylinders    1.00000 -0.77671\n",
              "mpg         -0.77671  1.00000"
            ]
          },
          "metadata": {
            "tags": []
          },
          "execution_count": 27
        }
      ]
    },
    {
      "cell_type": "markdown",
      "metadata": {
        "id": "GYZkjSNEA_c2",
        "colab_type": "text"
      },
      "source": [
        "#### Pergunta 9\n",
        "Sobre o boxplot da variável “hp”, é correto afirmar, EXCETO:\n",
        "\n",
        "- ***Existe uma maior dispersão no segundo quartil quando comparamos com o terceiro.***\n",
        "\n",
        "- Cada um dos quartis possui a mesma quantidade de valores para a variável “hp”.\n",
        "\n",
        "- Através do boxplot é possível perceber que a mediana encontra-se entre os valores de 80 e 100.\n",
        "\n",
        "- Não foi identificada a presença de possíveis outliers nos dados."
      ]
    },
    {
      "cell_type": "code",
      "metadata": {
        "id": "v4hg-q3qtJJk",
        "colab_type": "code",
        "colab": {
          "base_uri": "https://localhost:8080/",
          "height": 296
        },
        "outputId": "d46d526d-8d60-4925-9090-d4e32b5df852"
      },
      "source": [
        "ax = sns.boxplot(x=cars_df[\"hp\"])\n",
        "ax"
      ],
      "execution_count": null,
      "outputs": [
        {
          "output_type": "execute_result",
          "data": {
            "text/plain": [
              "<matplotlib.axes._subplots.AxesSubplot at 0x7f9348a850b8>"
            ]
          },
          "metadata": {
            "tags": []
          },
          "execution_count": 28
        },
        {
          "output_type": "display_data",
          "data": {
            "image/png": "[encoded data removed]",
            "text/plain": [
              "<Figure size 432x288 with 1 Axes>"
            ]
          },
          "metadata": {
            "tags": [],
            "needs_background": "light"
          }
        }
      ]
    },
    {
      "cell_type": "markdown",
      "metadata": {
        "id": "U0kTJfwIA_gd",
        "colab_type": "text"
      },
      "source": [
        "#### Pergunta 10\n",
        "Após normalizado, utilizando a função StandardScaler(), qual é o maior valor para a variável “hp”?\n",
        "\n",
        "- 1,23\n",
        "\n",
        "- ***1,45***\n",
        "\n",
        "- 1,01\n",
        "\n",
        "- 1,18"
      ]
    },
    {
      "cell_type": "code",
      "metadata": {
        "id": "iGV50J3_cWak",
        "colab_type": "code",
        "colab": {
          "base_uri": "https://localhost:8080/",
          "height": 238
        },
        "outputId": "96f7fb4a-59aa-46fa-ee74-ab04a717c1a6"
      },
      "source": [
        "normaliza = StandardScaler()\n",
        "scaled = normaliza.fit_transform(cars_df)\n",
        "scaled = np.array(scaled)\n",
        "scaled"
      ],
      "execution_count": null,
      "outputs": [
        {
          "output_type": "execute_result",
          "data": {
            "text/plain": [
              "array([[ 1.37239295,  1.41499703, -1.17112732, ...,  1.45068065,\n",
              "        -1.22128734, -1.32753906],\n",
              "       [-1.03028992, -1.28008557,  1.12122635, ..., -0.87476849,\n",
              "        -0.53282946,  0.8758803 ],\n",
              "       [ 0.93052024,  0.51820947, -0.78693397, ...,  0.83221013,\n",
              "        -1.56551627, -1.60296648],\n",
              "       ...,\n",
              "       [ 0.28612253, -0.20630047, -0.14661172, ...,  0.13952316,\n",
              "        -0.18860053,  1.70216257],\n",
              "       [ 0.28612253,  0.32823211, -0.65886952, ..., -0.15734269,\n",
              "         0.15562841, -1.32753906],\n",
              "       [ 0.4518248 ,  0.40493105, -0.14661172, ..., -0.03364859,\n",
              "        -0.18860053,  0.04959804]])"
            ]
          },
          "metadata": {
            "tags": []
          },
          "execution_count": 29
        }
      ]
    },
    {
      "cell_type": "code",
      "metadata": {
        "id": "UrOLecmQdCdA",
        "colab_type": "code",
        "colab": {
          "base_uri": "https://localhost:8080/",
          "height": 221
        },
        "outputId": "0b91477c-828d-40bd-dcac-c0b67c61141d"
      },
      "source": [
        "df10 = pd.DataFrame(scaled, columns=cars_df.columns)\n",
        "df10 = df10.stack()\n",
        "df10 "
      ],
      "execution_count": null,
      "outputs": [
        {
          "output_type": "execute_result",
          "data": {
            "text/plain": [
              "0    cubicinches    1.372393\n",
              "     weightlbs      1.414997\n",
              "     mpg           -1.171127\n",
              "     cylinders      1.393053\n",
              "     hp             1.450681\n",
              "                      ...   \n",
              "260  mpg           -0.146612\n",
              "     cylinders      0.236974\n",
              "     hp            -0.033649\n",
              "     time-to-60    -0.188601\n",
              "     year           0.049598\n",
              "Length: 1827, dtype: float64"
            ]
          },
          "metadata": {
            "tags": []
          },
          "execution_count": 30
        }
      ]
    },
    {
      "cell_type": "code",
      "metadata": {
        "id": "FmMqAFpbdRw3",
        "colab_type": "code",
        "colab": {
          "base_uri": "https://localhost:8080/",
          "height": 119
        },
        "outputId": "af22dd17-fd20-48c8-d51d-514012f28513"
      },
      "source": [
        "df10.sort_values(ascending=False)\n",
        "df10.head()"
      ],
      "execution_count": null,
      "outputs": [
        {
          "output_type": "execute_result",
          "data": {
            "text/plain": [
              "0  cubicinches    1.372393\n",
              "   weightlbs      1.414997\n",
              "   mpg           -1.171127\n",
              "   cylinders      1.393053\n",
              "   hp             1.450681\n",
              "dtype: float64"
            ]
          },
          "metadata": {
            "tags": []
          },
          "execution_count": 31
        }
      ]
    },
    {
      "cell_type": "markdown",
      "metadata": {
        "id": "X4stEVDXA_XS",
        "colab_type": "text"
      },
      "source": [
        "#### Pergunta 11\n",
        "Aplicando o PCA, conforme a definição acima, qual é o valor da variância explicada com pela primeira componente principal?\n",
        "\n",
        "- 92%\n",
        "\n",
        "- 34%\n",
        "\n",
        "- 13%\n",
        "\n",
        "- ***72%***"
      ]
    },
    {
      "cell_type": "code",
      "metadata": {
        "id": "zX-UMiPJ7MFR",
        "colab_type": "code",
        "colab": {}
      },
      "source": [
        "pca = PCA(n_components=7)"
      ],
      "execution_count": null,
      "outputs": []
    },
    {
      "cell_type": "code",
      "metadata": {
        "id": "EyjL5jlN75EJ",
        "colab_type": "code",
        "colab": {
          "base_uri": "https://localhost:8080/",
          "height": 51
        },
        "outputId": "27bbe0e6-f329-4c34-e634-6038a2fd7bd0"
      },
      "source": [
        "pca.fit(scaled)\n",
        "print(pca.explained_variance_ratio_)"
      ],
      "execution_count": null,
      "outputs": [
        {
          "output_type": "stream",
          "text": [
            "[0.72371349 0.12675138 0.09126131 0.02773591 0.01766794 0.00798425\n",
            " 0.00488572]\n"
          ],
          "name": "stdout"
        }
      ]
    },
    {
      "cell_type": "code",
      "metadata": {
        "id": "KlvsDjtghViN",
        "colab_type": "code",
        "colab": {
          "base_uri": "https://localhost:8080/",
          "height": 238
        },
        "outputId": "2b3e8120-0415-4e56-9442-be57f9445445"
      },
      "source": [
        "df_pca = pca.transform(scaled)\n",
        "df_pca"
      ],
      "execution_count": null,
      "outputs": [
        {
          "output_type": "execute_result",
          "data": {
            "text/plain": [
              "array([[ 3.48521925,  0.5263255 , -0.13973834, ...,  0.08690179,\n",
              "        -0.17920558,  0.07907785],\n",
              "       [-2.17691231, -0.28542399, -1.3046126 , ..., -0.28969849,\n",
              "        -0.04114712, -0.01312739],\n",
              "       [ 2.6849731 ,  1.04694609, -0.73215552, ..., -0.53516815,\n",
              "        -0.07574501,  0.15995575],\n",
              "       ...,\n",
              "       [-0.05384928, -1.58270559, -0.2851369 , ..., -0.30790924,\n",
              "         0.49848823, -0.15274899],\n",
              "       [ 0.78538633,  1.18244612,  0.60971526, ..., -0.20311094,\n",
              "        -0.21777245, -0.1097028 ],\n",
              "       [ 0.54934121, -0.22344808,  0.0834219 , ..., -0.1413986 ,\n",
              "        -0.23267174, -0.22236514]])"
            ]
          },
          "metadata": {
            "tags": []
          },
          "execution_count": 34
        }
      ]
    },
    {
      "cell_type": "markdown",
      "metadata": {
        "id": "g46sutIfBP8u",
        "colab_type": "text"
      },
      "source": [
        "#### Pergunta 12\n",
        "Utilize os três primeiros componentes principais para construir o K-means com um número de 3 clusters. Sobre os clusters, é INCORRETO afirmar:\n",
        "\n",
        "- Existem 3 centroides após a aplicação da clusterização.\n",
        "\n",
        "- Os centroides, utilizando apenas as 3 componentes principais, possuem 3 dimensões.\n",
        "\n",
        "- Cada um dos clusters possui características próprias.\n",
        "\n",
        "- ***Todos os clusters possuem a mesma quantidade de elementos.***"
      ]
    },
    {
      "cell_type": "code",
      "metadata": {
        "id": "DrHeEtmYhvde",
        "colab_type": "code",
        "colab": {
          "base_uri": "https://localhost:8080/",
          "height": 68
        },
        "outputId": "c9a00fde-e748-4958-c460-f62f9f9624c7"
      },
      "source": [
        "kmeans = KMeans(n_clusters=3, random_state=42)\n",
        "kmeans.fit(df_pca)"
      ],
      "execution_count": null,
      "outputs": [
        {
          "output_type": "execute_result",
          "data": {
            "text/plain": [
              "KMeans(algorithm='auto', copy_x=True, init='k-means++', max_iter=300,\n",
              "       n_clusters=3, n_init=10, n_jobs=None, precompute_distances='auto',\n",
              "       random_state=42, tol=0.0001, verbose=0)"
            ]
          },
          "metadata": {
            "tags": []
          },
          "execution_count": 35
        }
      ]
    },
    {
      "cell_type": "code",
      "metadata": {
        "id": "Yuusrs-h_EmT",
        "colab_type": "code",
        "colab": {
          "base_uri": "https://localhost:8080/",
          "height": 119
        },
        "outputId": "8e626076-5668-42da-9e73-482ed65c56e2"
      },
      "source": [
        "print(kmeans.cluster_centers_)"
      ],
      "execution_count": null,
      "outputs": [
        {
          "output_type": "stream",
          "text": [
            "[[-2.21903474e-01  3.35880334e-01  2.83961966e-01 -2.67686215e-01\n",
            "  -5.45225710e-02 -4.15058549e-03  6.49104031e-03]\n",
            " [-2.21966813e+00 -1.65114484e-01 -1.97903173e-01  1.41526756e-01\n",
            "   5.21847434e-02 -6.14922939e-03 -2.61748230e-02]\n",
            " [ 3.08082252e+00 -1.98389792e-01 -9.38631667e-02  1.45525382e-01\n",
            "   5.33778892e-05  1.28250676e-02  2.52789802e-02]]\n"
          ],
          "name": "stdout"
        }
      ]
    },
    {
      "cell_type": "code",
      "metadata": {
        "id": "STT0YS6tiDJd",
        "colab_type": "code",
        "colab": {
          "base_uri": "https://localhost:8080/",
          "height": 238
        },
        "outputId": "97eaa231-b378-4b80-bc64-3c5ef603d29a"
      },
      "source": [
        "kmeans.labels_"
      ],
      "execution_count": null,
      "outputs": [
        {
          "output_type": "execute_result",
          "data": {
            "text/plain": [
              "array([2, 1, 2, 2, 1, 2, 2, 2, 0, 1, 1, 1, 2, 2, 0, 2, 1, 2, 0, 0, 1, 0,\n",
              "       0, 2, 1, 1, 1, 2, 0, 1, 0, 0, 0, 0, 1, 0, 1, 0, 2, 0, 0, 2, 0, 0,\n",
              "       2, 1, 2, 0, 1, 0, 2, 1, 2, 0, 2, 2, 0, 1, 1, 2, 0, 0, 0, 1, 2, 0,\n",
              "       1, 1, 1, 2, 0, 1, 1, 0, 1, 1, 0, 0, 0, 1, 2, 2, 2, 0, 1, 1, 0, 0,\n",
              "       1, 1, 1, 1, 2, 0, 1, 0, 2, 0, 2, 0, 2, 2, 0, 1, 1, 1, 1, 1, 0, 2,\n",
              "       0, 0, 2, 1, 1, 0, 0, 0, 1, 2, 1, 1, 2, 0, 1, 1, 2, 1, 0, 1, 1, 1,\n",
              "       2, 2, 2, 2, 1, 2, 0, 0, 0, 1, 1, 1, 2, 0, 0, 1, 2, 2, 1, 1, 2, 0,\n",
              "       1, 0, 0, 1, 0, 0, 1, 2, 0, 0, 1, 0, 0, 1, 0, 1, 1, 0, 1, 1, 0, 1,\n",
              "       2, 2, 2, 1, 0, 1, 2, 2, 1, 0, 0, 2, 2, 2, 1, 1, 2, 2, 2, 1, 1, 1,\n",
              "       1, 1, 1, 0, 0, 0, 0, 2, 1, 0, 2, 0, 0, 2, 1, 1, 0, 1, 1, 2, 0, 2,\n",
              "       0, 0, 2, 0, 2, 1, 2, 1, 0, 1, 2, 1, 0, 2, 0, 1, 2, 0, 1, 0, 2, 0,\n",
              "       2, 0, 2, 2, 2, 1, 1, 1, 1, 0, 1, 2, 0, 0, 2, 1, 0, 0, 0],\n",
              "      dtype=int32)"
            ]
          },
          "metadata": {
            "tags": []
          },
          "execution_count": 37
        }
      ]
    },
    {
      "cell_type": "code",
      "metadata": {
        "id": "8m3FD-PRfsuA",
        "colab_type": "code",
        "colab": {
          "base_uri": "https://localhost:8080/",
          "height": 204
        },
        "outputId": "5f8462b7-b279-4c17-e787-db280743ce9b"
      },
      "source": [
        "df['kmeans'] = kmeans.labels_\n",
        "df.head()"
      ],
      "execution_count": null,
      "outputs": [
        {
          "output_type": "execute_result",
          "data": {
            "text/html": [
              "<div>\n",
              "<style scoped>\n",
              "    .dataframe tbody tr th:only-of-type {\n",
              "        vertical-align: middle;\n",
              "    }\n",
              "\n",
              "    .dataframe tbody tr th {\n",
              "        vertical-align: top;\n",
              "    }\n",
              "\n",
              "    .dataframe thead th {\n",
              "        text-align: right;\n",
              "    }\n",
              "</style>\n",
              "<table border=\"1\" class=\"dataframe\">\n",
              "  <thead>\n",
              "    <tr style=\"text-align: right;\">\n",
              "      <th></th>\n",
              "      <th>mpg</th>\n",
              "      <th>cylinders</th>\n",
              "      <th>cubicinches</th>\n",
              "      <th>hp</th>\n",
              "      <th>weightlbs</th>\n",
              "      <th>time-to-60</th>\n",
              "      <th>year</th>\n",
              "      <th>brand</th>\n",
              "      <th>kmeans</th>\n",
              "    </tr>\n",
              "  </thead>\n",
              "  <tbody>\n",
              "    <tr>\n",
              "      <th>0</th>\n",
              "      <td>14.0</td>\n",
              "      <td>8</td>\n",
              "      <td>350.0</td>\n",
              "      <td>165</td>\n",
              "      <td>4209.0</td>\n",
              "      <td>12</td>\n",
              "      <td>1972</td>\n",
              "      <td>US.</td>\n",
              "      <td>2</td>\n",
              "    </tr>\n",
              "    <tr>\n",
              "      <th>1</th>\n",
              "      <td>31.9</td>\n",
              "      <td>4</td>\n",
              "      <td>89.0</td>\n",
              "      <td>71</td>\n",
              "      <td>1925.0</td>\n",
              "      <td>14</td>\n",
              "      <td>1980</td>\n",
              "      <td>Europe.</td>\n",
              "      <td>1</td>\n",
              "    </tr>\n",
              "    <tr>\n",
              "      <th>2</th>\n",
              "      <td>17.0</td>\n",
              "      <td>8</td>\n",
              "      <td>302.0</td>\n",
              "      <td>140</td>\n",
              "      <td>3449.0</td>\n",
              "      <td>11</td>\n",
              "      <td>1971</td>\n",
              "      <td>US.</td>\n",
              "      <td>2</td>\n",
              "    </tr>\n",
              "    <tr>\n",
              "      <th>3</th>\n",
              "      <td>15.0</td>\n",
              "      <td>8</td>\n",
              "      <td>400.0</td>\n",
              "      <td>150</td>\n",
              "      <td>3761.0</td>\n",
              "      <td>10</td>\n",
              "      <td>1971</td>\n",
              "      <td>US.</td>\n",
              "      <td>2</td>\n",
              "    </tr>\n",
              "    <tr>\n",
              "      <th>4</th>\n",
              "      <td>30.5</td>\n",
              "      <td>4</td>\n",
              "      <td>98.0</td>\n",
              "      <td>63</td>\n",
              "      <td>2051.0</td>\n",
              "      <td>17</td>\n",
              "      <td>1978</td>\n",
              "      <td>US.</td>\n",
              "      <td>1</td>\n",
              "    </tr>\n",
              "  </tbody>\n",
              "</table>\n",
              "</div>"
            ],
            "text/plain": [
              "    mpg  cylinders  cubicinches   hp  ...  time-to-60  year     brand kmeans\n",
              "0  14.0          8        350.0  165  ...          12  1972       US.      2\n",
              "1  31.9          4         89.0   71  ...          14  1980   Europe.      1\n",
              "2  17.0          8        302.0  140  ...          11  1971       US.      2\n",
              "3  15.0          8        400.0  150  ...          10  1971       US.      2\n",
              "4  30.5          4         98.0   63  ...          17  1978       US.      1\n",
              "\n",
              "[5 rows x 9 columns]"
            ]
          },
          "metadata": {
            "tags": []
          },
          "execution_count": 38
        }
      ]
    },
    {
      "cell_type": "code",
      "metadata": {
        "id": "VHktgY6Af9wl",
        "colab_type": "code",
        "colab": {
          "base_uri": "https://localhost:8080/",
          "height": 85
        },
        "outputId": "144cb1b4-4e2e-4eb4-dcbf-e6c1b9be4253"
      },
      "source": [
        "df['kmeans'].value_counts()"
      ],
      "execution_count": null,
      "outputs": [
        {
          "output_type": "execute_result",
          "data": {
            "text/plain": [
              "1    95\n",
              "0    91\n",
              "2    75\n",
              "Name: kmeans, dtype: int64"
            ]
          },
          "metadata": {
            "tags": []
          },
          "execution_count": 39
        }
      ]
    },
    {
      "cell_type": "code",
      "metadata": {
        "id": "Ltw99pCeiPrf",
        "colab_type": "code",
        "colab": {
          "base_uri": "https://localhost:8080/",
          "height": 320
        },
        "outputId": "150c5980-3ad4-44b1-b49e-37c67cf6a5e3"
      },
      "source": [
        "plt.figure(figsize=(10, 5))\n",
        "x, y = zip(*df_pca[:,:2])\n",
        "x_, y_ = zip(*kmeans.cluster_centers_[:,:2])\n",
        "sns.scatterplot(x, y, kmeans.labels_, palette=sns.color_palette(\"Set1\", n_colors=3, desat=.5))\n",
        "sns.scatterplot(x_, y_, markers=['x']);"
      ],
      "execution_count": null,
      "outputs": [
        {
          "output_type": "display_data",
          "data": {
            "image/png": "[encoded data removed]",
            "text/plain": [
              "<Figure size 720x360 with 1 Axes>"
            ]
          },
          "metadata": {
            "tags": [],
            "needs_background": "light"
          }
        }
      ]
    },
    {
      "cell_type": "markdown",
      "metadata": {
        "id": "-tpwAEIxBRZG",
        "colab_type": "text"
      },
      "source": [
        "#### Pergunta 13\n",
        "Após todo o processamento realizado nos itens anteriores, crie uma coluna que contenha a variável de eficiência do veículo. Veículos que percorrem mais de 25 milhas com um galão (“mpg”>25) devem ser considerados eficientes. Utilize as colunas ['cylinders' ,'cubicinches' ,'hp' ,'weightlbs','time-to-60'] como entradas e como saída a coluna de eficiência criada. Utilizando a árvore de decisão como mostrado, qual é a acurácia do modelo?\n",
        "\n",
        "- Aproximadamente, 0,99.\n",
        "\n",
        "- Aproximadamente, 0,63.\n",
        "\n",
        "- Aproximadamente, 0,70.\n",
        "\n",
        "- ***Aproximadamente, 0,87.***"
      ]
    },
    {
      "cell_type": "code",
      "metadata": {
        "id": "Qcl_eoAIifQW",
        "colab_type": "code",
        "colab": {}
      },
      "source": [
        "X = df_pca\n",
        "y = kmeans.labels_"
      ],
      "execution_count": null,
      "outputs": []
    },
    {
      "cell_type": "code",
      "metadata": {
        "id": "jG9p_odmwkvd",
        "colab_type": "code",
        "colab": {
          "base_uri": "https://localhost:8080/"
        },
        "outputId": "2c56de65-3d4b-4417-d986-d8f5b18054fd"
      },
      "source": [
        "X_train,X_test,y_train,y_test = train_test_split(X, y, test_size=0.30, random_state=42)\n",
        "X_train.shape[0] == y_train.shape[0]"
      ],
      "execution_count": null,
      "outputs": [
        {
          "output_type": "execute_result",
          "data": {
            "text/plain": [
              "True"
            ]
          },
          "metadata": {
            "tags": []
          },
          "execution_count": 43
        }
      ]
    },
    {
      "cell_type": "code",
      "metadata": {
        "id": "jrby0lHWo0v_",
        "colab_type": "code",
        "colab": {
          "base_uri": "https://localhost:8080/"
        },
        "outputId": "acb90c87-e460-4a1e-870b-aa191cf34c2d"
      },
      "source": [
        "# Training on the existing dataset\n",
        "clf_dtc = DecisionTreeClassifier(random_state=42)\n",
        "clf_dtc.fit(X_train, y_train)"
      ],
      "execution_count": null,
      "outputs": [
        {
          "output_type": "execute_result",
          "data": {
            "text/plain": [
              "DecisionTreeClassifier(ccp_alpha=0.0, class_weight=None, criterion='gini',\n",
              "                       max_depth=None, max_features=None, max_leaf_nodes=None,\n",
              "                       min_impurity_decrease=0.0, min_impurity_split=None,\n",
              "                       min_samples_leaf=1, min_samples_split=2,\n",
              "                       min_weight_fraction_leaf=0.0, presort='deprecated',\n",
              "                       random_state=42, splitter='best')"
            ]
          },
          "metadata": {
            "tags": []
          },
          "execution_count": 44
        }
      ]
    },
    {
      "cell_type": "code",
      "metadata": {
        "id": "vAxgv6nYo6CO",
        "colab_type": "code",
        "colab": {}
      },
      "source": [
        "# Evaluating the model\n",
        "y_pred_dtc = clf_dtc.predict(X_test)"
      ],
      "execution_count": null,
      "outputs": []
    },
    {
      "cell_type": "code",
      "metadata": {
        "id": "65xPxDC9Cp49",
        "colab_type": "code",
        "colab": {
          "base_uri": "https://localhost:8080/"
        },
        "outputId": "55afb016-346f-4e7b-da28-b483810554f1"
      },
      "source": [
        "print(classification_report(y_test, y_pred_dtc))"
      ],
      "execution_count": null,
      "outputs": [
        {
          "output_type": "stream",
          "text": [
            "              precision    recall  f1-score   support\n",
            "\n",
            "           0       0.96      0.96      0.96        23\n",
            "           1       0.97      0.97      0.97        37\n",
            "           2       1.00      1.00      1.00        19\n",
            "\n",
            "    accuracy                           0.97        79\n",
            "   macro avg       0.98      0.98      0.98        79\n",
            "weighted avg       0.97      0.97      0.97        79\n",
            "\n"
          ],
          "name": "stdout"
        }
      ]
    },
    {
      "cell_type": "markdown",
      "metadata": {
        "id": "io7-l_5TBSaG",
        "colab_type": "text"
      },
      "source": [
        "#### Pergunta 14\n",
        "Sobre a matriz de confusão obtida após a aplicação da árvore de decisão, como mostrado anteriormente, é INCORRETO afirmar:\n",
        "\n",
        "- Os falso-positivos correspondem a instâncias em que o algoritmo considerou a previsão como verdadeira e, na realidade, ela era falsa.\n",
        "\n",
        "- ***Existem duas vezes mais veículos considerados não eficientes que instâncias de veículos eficientes.***\n",
        "\n",
        "- A matriz de confusão se constitui em uma estratégia ainda mais importante quando um dataset não está balanceado.\n",
        "\n",
        "- A diagonal principal da matriz mostra que as instâncias em que as previsões foram corretas."
      ]
    },
    {
      "cell_type": "code",
      "metadata": {
        "id": "LMiP39I0nW82",
        "colab_type": "code",
        "colab": {
          "base_uri": "https://localhost:8080/"
        },
        "outputId": "019a8dfb-c092-4bd9-b621-c23b48e7f183"
      },
      "source": [
        "# Training on the existing dataset\n",
        "clf_lr = LogisticRegression(random_state=42)\n",
        "clf_lr.fit(X_train, y_train)"
      ],
      "execution_count": null,
      "outputs": [
        {
          "output_type": "execute_result",
          "data": {
            "text/plain": [
              "LogisticRegression(C=1.0, class_weight=None, dual=False, fit_intercept=True,\n",
              "                   intercept_scaling=1, l1_ratio=None, max_iter=100,\n",
              "                   multi_class='auto', n_jobs=None, penalty='l2',\n",
              "                   random_state=42, solver='lbfgs', tol=0.0001, verbose=0,\n",
              "                   warm_start=False)"
            ]
          },
          "metadata": {
            "tags": []
          },
          "execution_count": 47
        }
      ]
    },
    {
      "cell_type": "code",
      "metadata": {
        "id": "nb59JXepF7gs",
        "colab_type": "code",
        "colab": {}
      },
      "source": [
        "# Evaluating the model\n",
        "y_pred_lr = clf_lr.predict(X_test)"
      ],
      "execution_count": null,
      "outputs": []
    },
    {
      "cell_type": "code",
      "metadata": {
        "id": "WbmP58iIqhbj",
        "colab_type": "code",
        "colab": {
          "base_uri": "https://localhost:8080/"
        },
        "outputId": "1fc90a1c-e50c-410f-f1a7-6736d2ea9b19"
      },
      "source": [
        "print(classification_report(y_test, y_pred_lr))"
      ],
      "execution_count": null,
      "outputs": [
        {
          "output_type": "stream",
          "text": [
            "              precision    recall  f1-score   support\n",
            "\n",
            "           0       1.00      1.00      1.00        23\n",
            "           1       1.00      1.00      1.00        37\n",
            "           2       1.00      1.00      1.00        19\n",
            "\n",
            "    accuracy                           1.00        79\n",
            "   macro avg       1.00      1.00      1.00        79\n",
            "weighted avg       1.00      1.00      1.00        79\n",
            "\n"
          ],
          "name": "stdout"
        }
      ]
    },
    {
      "cell_type": "code",
      "metadata": {
        "id": "DuuETh4-kIc5",
        "colab_type": "code",
        "colab": {
          "base_uri": "https://localhost:8080/"
        },
        "outputId": "556adaec-6d6b-4f39-c17d-efcbd6802338"
      },
      "source": [
        "print(confusion_matrix(y_test, y_pred_lr))"
      ],
      "execution_count": null,
      "outputs": [
        {
          "output_type": "stream",
          "text": [
            "[[23  0  0]\n",
            " [ 0 37  0]\n",
            " [ 0  0 19]]\n"
          ],
          "name": "stdout"
        }
      ]
    },
    {
      "cell_type": "markdown",
      "metadata": {
        "id": "wq4AmFniBTcF",
        "colab_type": "text"
      },
      "source": [
        "#### Pergunta 15\n",
        "Utilizando a mesma divisão de dados entre treinamento e teste empregada para a análise anterior, aplique o modelo de regressão logística como mostrado na descrição do trabalho. Comparando os resultados obtidos com o modelo de árvore de decisão, é INCORRETO afirmar:\n",
        "\n",
        "- Como os dois modelos obtiveram um resultado superior a 80% de acurácia, a escolha sobre qual utilizar deve e pode ser feita a partir de outros critérios, como a complexidade do modelo.\n",
        "\n",
        "- A árvore de decisão e a regressão logística podem ser utilizadas para previsão em regressões.\n",
        "\n",
        "- ***A regressão logística não deveria ser aplicada ao problema, pois ela trabalha apenas com dados categóricos.***\n",
        "\n",
        "- A acurácia de ambos os modelos foi superior a 80%."
      ]
    }
  ]
}